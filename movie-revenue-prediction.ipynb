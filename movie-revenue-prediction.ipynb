{
 "cells": [
  {
   "cell_type": "markdown",
   "id": "b0df188c-0709-4523-82e1-de9a4eee7dcb",
   "metadata": {},
   "source": [
    "## Import libraries"
   ]
  },
  {
   "cell_type": "code",
   "execution_count": 3,
   "id": "3b82f72d-dcb2-47e4-8600-8ee6d7af0319",
   "metadata": {},
   "outputs": [],
   "source": [
    "import pandas as pd \n",
    "import seaborn as sns \n",
    "import numpy as np \n",
    "\n",
    "import matplotlib.pyplot as plt\n",
    "\n",
    "from sklearn.pipeline import make_pipeline\n",
    "\n",
    "from sklearn.preprocessing import RobustScaler, StandardScaler, LabelEncoder\n",
    "from sklearn.decomposition import PCA\n",
    "\n",
    "from sklearn.feature_selection import mutual_info_regression\n",
    "from sklearn.feature_selection import SelectKBest\n",
    "from sklearn.feature_selection import SequentialFeatureSelector, SelectFromModel\n",
    "\n",
    "from sklearn.model_selection import train_test_split, KFold, cross_val_predict\n",
    "\n",
    "from sklearn.linear_model import LinearRegression\n",
    "from sklearn.neighbors import KNeighborsRegressor\n",
    "\n",
    "from sklearn.metrics import mean_squared_error\n",
    "\n",
    "import ast"
   ]
  },
  {
   "cell_type": "code",
   "execution_count": 4,
   "id": "62fc8cda",
   "metadata": {},
   "outputs": [],
   "source": [
    "pd.set_option('display.max_columns', 50)"
   ]
  },
  {
   "cell_type": "markdown",
   "id": "1e8ee64f-1b5c-4588-a576-101d1ae8de6f",
   "metadata": {},
   "source": [
    "## Load datasets"
   ]
  },
  {
   "cell_type": "markdown",
   "id": "b06df271",
   "metadata": {},
   "source": [
    "A quick look into the dataset and we could notice that the special character _\"\\N\"_ is used instead of _NaN_ for missing values."
   ]
  },
  {
   "cell_type": "code",
   "execution_count": 5,
   "id": "b08a369e-8919-43f2-90f3-61a04eaf5975",
   "metadata": {
    "scrolled": true
   },
   "outputs": [
    {
     "data": {
      "text/html": [
       "<div>\n",
       "<style scoped>\n",
       "    .dataframe tbody tr th:only-of-type {\n",
       "        vertical-align: middle;\n",
       "    }\n",
       "\n",
       "    .dataframe tbody tr th {\n",
       "        vertical-align: top;\n",
       "    }\n",
       "\n",
       "    .dataframe thead th {\n",
       "        text-align: right;\n",
       "    }\n",
       "</style>\n",
       "<table border=\"1\" class=\"dataframe\">\n",
       "  <thead>\n",
       "    <tr style=\"text-align: right;\">\n",
       "      <th></th>\n",
       "      <th>Unnamed: 0</th>\n",
       "      <th>title</th>\n",
       "      <th>img_url</th>\n",
       "      <th>description</th>\n",
       "      <th>ratings</th>\n",
       "      <th>n_votes</th>\n",
       "      <th>is_adult</th>\n",
       "      <th>production_year</th>\n",
       "      <th>runtime</th>\n",
       "      <th>genres</th>\n",
       "      <th>release_year</th>\n",
       "      <th>studio</th>\n",
       "      <th>img_embeddings</th>\n",
       "      <th>text_embeddings</th>\n",
       "    </tr>\n",
       "  </thead>\n",
       "  <tbody>\n",
       "    <tr>\n",
       "      <th>0</th>\n",
       "      <td>2502</td>\n",
       "      <td>Letters to Juliet</td>\n",
       "      <td>https://m.media-amazon.com/images/M/MV5BMjg0OT...</td>\n",
       "      <td>Letters to Juliet: Directed by Gary Winick. Wi...</td>\n",
       "      <td>6.5</td>\n",
       "      <td>92937.0</td>\n",
       "      <td>0</td>\n",
       "      <td>2010</td>\n",
       "      <td>105.0</td>\n",
       "      <td>Adventure,Comedy,Drama</td>\n",
       "      <td>2010.0</td>\n",
       "      <td>Sum.</td>\n",
       "      <td>[0.25030804, 2.4058464, 1.0431569, 0.030648155...</td>\n",
       "      <td>[-0.6795498, 0.35658365, 0.9994932, -0.9793934...</td>\n",
       "    </tr>\n",
       "    <tr>\n",
       "      <th>1</th>\n",
       "      <td>6238</td>\n",
       "      <td>Veil of Tears</td>\n",
       "      <td>https://m.media-amazon.com/images/M/MV5BZjMxOD...</td>\n",
       "      <td>Veil of Tears: Directed by William Gereghty. W...</td>\n",
       "      <td>7.9</td>\n",
       "      <td>11.0</td>\n",
       "      <td>0</td>\n",
       "      <td>1996</td>\n",
       "      <td>NaN</td>\n",
       "      <td>Action,Crime,Drama</td>\n",
       "      <td>2014.0</td>\n",
       "      <td>WF</td>\n",
       "      <td>[0.51250213, 2.8152602, 0.46308166, 0.29031387...</td>\n",
       "      <td>[-0.6202415, 0.31657028, 0.9992422, -0.9703722...</td>\n",
       "    </tr>\n",
       "    <tr>\n",
       "      <th>2</th>\n",
       "      <td>1800</td>\n",
       "      <td>International Velvet</td>\n",
       "      <td>https://m.media-amazon.com/images/M/MV5BOGVkYj...</td>\n",
       "      <td>International Velvet: Directed by Bryan Forbes...</td>\n",
       "      <td>5.9</td>\n",
       "      <td>1345.0</td>\n",
       "      <td>0</td>\n",
       "      <td>1978</td>\n",
       "      <td>127.0</td>\n",
       "      <td>Drama,Family,Sport</td>\n",
       "      <td>1978.0</td>\n",
       "      <td>MGM</td>\n",
       "      <td>[0.18073043, 0.24735461, 0.63652813, 0.2496522...</td>\n",
       "      <td>[-0.709996, 0.4233521, 0.99980927, -0.98892415...</td>\n",
       "    </tr>\n",
       "    <tr>\n",
       "      <th>3</th>\n",
       "      <td>2675</td>\n",
       "      <td>8 Seconds</td>\n",
       "      <td>https://m.media-amazon.com/images/M/MV5BYjY4Nz...</td>\n",
       "      <td>8 Seconds: Directed by John G. Avildsen. With ...</td>\n",
       "      <td>6.6</td>\n",
       "      <td>4851.0</td>\n",
       "      <td>0</td>\n",
       "      <td>1994</td>\n",
       "      <td>105.0</td>\n",
       "      <td>Biography,Drama,Sport</td>\n",
       "      <td>1994.0</td>\n",
       "      <td>NL</td>\n",
       "      <td>[0.025015268, 0.9105338, 0.3878257, 0.3421247,...</td>\n",
       "      <td>[-0.7416838, 0.38435012, 0.9998453, -0.9874693...</td>\n",
       "    </tr>\n",
       "    <tr>\n",
       "      <th>4</th>\n",
       "      <td>3674</td>\n",
       "      <td>Penitentiary II</td>\n",
       "      <td>https://m.media-amazon.com/images/M/MV5BNjQyZW...</td>\n",
       "      <td>Penitentiary II: Directed by Jamaa Fanaka. Wit...</td>\n",
       "      <td>4.1</td>\n",
       "      <td>549.0</td>\n",
       "      <td>0</td>\n",
       "      <td>1982</td>\n",
       "      <td>108.0</td>\n",
       "      <td>Crime,Drama,Sport</td>\n",
       "      <td>1982.0</td>\n",
       "      <td>MGM</td>\n",
       "      <td>[0.19079691, 1.9068279, 0.29114372, 0.19527505...</td>\n",
       "      <td>[-0.65501904, 0.3845747, 0.9996712, -0.9766391...</td>\n",
       "    </tr>\n",
       "  </tbody>\n",
       "</table>\n",
       "</div>"
      ],
      "text/plain": [
       "   Unnamed: 0                 title  \\\n",
       "0        2502     Letters to Juliet   \n",
       "1        6238         Veil of Tears   \n",
       "2        1800  International Velvet   \n",
       "3        2675             8 Seconds   \n",
       "4        3674       Penitentiary II   \n",
       "\n",
       "                                             img_url  \\\n",
       "0  https://m.media-amazon.com/images/M/MV5BMjg0OT...   \n",
       "1  https://m.media-amazon.com/images/M/MV5BZjMxOD...   \n",
       "2  https://m.media-amazon.com/images/M/MV5BOGVkYj...   \n",
       "3  https://m.media-amazon.com/images/M/MV5BYjY4Nz...   \n",
       "4  https://m.media-amazon.com/images/M/MV5BNjQyZW...   \n",
       "\n",
       "                                         description  ratings  n_votes  \\\n",
       "0  Letters to Juliet: Directed by Gary Winick. Wi...      6.5  92937.0   \n",
       "1  Veil of Tears: Directed by William Gereghty. W...      7.9     11.0   \n",
       "2  International Velvet: Directed by Bryan Forbes...      5.9   1345.0   \n",
       "3  8 Seconds: Directed by John G. Avildsen. With ...      6.6   4851.0   \n",
       "4  Penitentiary II: Directed by Jamaa Fanaka. Wit...      4.1    549.0   \n",
       "\n",
       "   is_adult  production_year  runtime                  genres  release_year  \\\n",
       "0         0             2010    105.0  Adventure,Comedy,Drama        2010.0   \n",
       "1         0             1996      NaN      Action,Crime,Drama        2014.0   \n",
       "2         0             1978    127.0      Drama,Family,Sport        1978.0   \n",
       "3         0             1994    105.0   Biography,Drama,Sport        1994.0   \n",
       "4         0             1982    108.0       Crime,Drama,Sport        1982.0   \n",
       "\n",
       "  studio                                     img_embeddings  \\\n",
       "0   Sum.  [0.25030804, 2.4058464, 1.0431569, 0.030648155...   \n",
       "1     WF  [0.51250213, 2.8152602, 0.46308166, 0.29031387...   \n",
       "2    MGM  [0.18073043, 0.24735461, 0.63652813, 0.2496522...   \n",
       "3     NL  [0.025015268, 0.9105338, 0.3878257, 0.3421247,...   \n",
       "4    MGM  [0.19079691, 1.9068279, 0.29114372, 0.19527505...   \n",
       "\n",
       "                                     text_embeddings  \n",
       "0  [-0.6795498, 0.35658365, 0.9994932, -0.9793934...  \n",
       "1  [-0.6202415, 0.31657028, 0.9992422, -0.9703722...  \n",
       "2  [-0.709996, 0.4233521, 0.99980927, -0.98892415...  \n",
       "3  [-0.7416838, 0.38435012, 0.9998453, -0.9874693...  \n",
       "4  [-0.65501904, 0.3845747, 0.9996712, -0.9766391...  "
      ]
     },
     "execution_count": 5,
     "metadata": {},
     "output_type": "execute_result"
    }
   ],
   "source": [
    "# X1: entry dataset (note: X2 is the testing dataset)\n",
    "# use row `Unamed: 0` as the row index\n",
    "X1 = pd.read_csv(\"datasets/X1.csv\", na_values=\"\\\\N\")\n",
    "X1.head()"
   ]
  },
  {
   "cell_type": "code",
   "execution_count": 6,
   "id": "c6721560",
   "metadata": {
    "scrolled": true
   },
   "outputs": [],
   "source": [
    "#X1.loc[X1[\"title\"] == \"Clown\"]"
   ]
  },
  {
   "cell_type": "markdown",
   "id": "5b6d6013",
   "metadata": {},
   "source": [
    "inputs dataset has dimension (3540, 14)\n",
    "\n",
    "One first thing we can notice is that our dataset use a special character \"\\\\N\" for empty values. We should modify them to NaN."
   ]
  },
  {
   "cell_type": "code",
   "execution_count": 7,
   "id": "56cb088e-896b-4a02-82d3-e340c866c3df",
   "metadata": {},
   "outputs": [
    {
     "data": {
      "text/html": [
       "<div>\n",
       "<style scoped>\n",
       "    .dataframe tbody tr th:only-of-type {\n",
       "        vertical-align: middle;\n",
       "    }\n",
       "\n",
       "    .dataframe tbody tr th {\n",
       "        vertical-align: top;\n",
       "    }\n",
       "\n",
       "    .dataframe thead th {\n",
       "        text-align: right;\n",
       "    }\n",
       "</style>\n",
       "<table border=\"1\" class=\"dataframe\">\n",
       "  <thead>\n",
       "    <tr style=\"text-align: right;\">\n",
       "      <th></th>\n",
       "      <th>revenues</th>\n",
       "    </tr>\n",
       "  </thead>\n",
       "  <tbody>\n",
       "    <tr>\n",
       "      <th>0</th>\n",
       "      <td>7.158530e+07</td>\n",
       "    </tr>\n",
       "    <tr>\n",
       "      <th>1</th>\n",
       "      <td>8.964834e+04</td>\n",
       "    </tr>\n",
       "    <tr>\n",
       "      <th>2</th>\n",
       "      <td>3.164907e+07</td>\n",
       "    </tr>\n",
       "    <tr>\n",
       "      <th>3</th>\n",
       "      <td>3.898197e+07</td>\n",
       "    </tr>\n",
       "    <tr>\n",
       "      <th>4</th>\n",
       "      <td>9.697023e+06</td>\n",
       "    </tr>\n",
       "  </tbody>\n",
       "</table>\n",
       "</div>"
      ],
      "text/plain": [
       "       revenues\n",
       "0  7.158530e+07\n",
       "1  8.964834e+04\n",
       "2  3.164907e+07\n",
       "3  3.898197e+07\n",
       "4  9.697023e+06"
      ]
     },
     "execution_count": 7,
     "metadata": {},
     "output_type": "execute_result"
    }
   ],
   "source": [
    "# Y1: target dataset\n",
    "Y1 = pd.read_csv(\"datasets/Y1.csv\", header=None, names=[\"revenues\"])\n",
    "Y1.head()"
   ]
  },
  {
   "cell_type": "markdown",
   "id": "80a85657",
   "metadata": {},
   "source": [
    "target dataset has dimension (3540, 1)"
   ]
  },
  {
   "cell_type": "code",
   "execution_count": 8,
   "id": "cb6f9acd",
   "metadata": {},
   "outputs": [],
   "source": [
    "# X2: testing entry dataset\n",
    "X2 = pd.read_csv(\"datasets/X2.csv\", na_values=\"\\\\N\")"
   ]
  },
  {
   "cell_type": "code",
   "execution_count": 9,
   "id": "9b4d7024",
   "metadata": {},
   "outputs": [
    {
     "name": "stdout",
     "output_type": "stream",
     "text": [
      "X1 dataset contains 3540 observations and 14 features\n",
      "X2 dataset (for prediction only) contains 1518 observations\n",
      "features: ['Unnamed: 0', 'title', 'img_url', 'description', 'ratings', 'n_votes', 'is_adult', 'production_year', 'runtime', 'genres', 'release_year', 'studio', 'img_embeddings', 'text_embeddings']\n",
      "target: ['revenues']\n"
     ]
    }
   ],
   "source": [
    "print(f\"X1 dataset contains {X1.shape[0]} observations and {X1.shape[1]} features\")\n",
    "print(f\"X2 dataset (for prediction only) contains {X2.shape[0]} observations\")\n",
    "\n",
    "print(f\"features: {list(X1.columns)}\")\n",
    "print(f\"target: {list(Y1.columns)}\")"
   ]
  },
  {
   "cell_type": "markdown",
   "id": "2ea64ae5",
   "metadata": {},
   "source": [
    "## Dataset description\n",
    "\n",
    "inputs (X1):     \n",
    "- `title`: title of the movie.    \n",
    "- `ratings`: rating on IMDB.    \n",
    "- `n_votes`: number of votes that are averaged for the given rating.    \n",
    "- `is_adult`: is the movie destined for a mature audience (0 or 1).    \n",
    "- `production_year`: the year the movie was produced.    \n",
    "- `release_year`: the year the movie was released.    \n",
    "- `runtime`: how long the movie lasts for (in minutes).    \n",
    "- `genres`: a list of maximum 3 genres that fits the movie.   \n",
    "- `studio`: the movie studio that produced the movie.        \n",
    "- `img.url`: the url of the poster of the movie.    \n",
    "- `img.embeddings`: vector of size 2048 representing the poster.    \n",
    "- `description`: synopsis of the movie.    \n",
    "- `text.embeddings`: vector of size 768 representing the synopsis.\n",
    "\n",
    "There is also an `\"Unnamed: 0\"` column that seems to be an **id for the movie**. We can remove it.\n",
    "\n",
    "target (Y1):     \n",
    "- `revenue`: the amount in dollars the movie made in the USA.    "
   ]
  },
  {
   "cell_type": "code",
   "execution_count": 10,
   "id": "428e50da",
   "metadata": {},
   "outputs": [],
   "source": [
    "# drop unecessary column `Unnamed: 0`\n",
    "X1.drop(\"Unnamed: 0\", axis=1, inplace=True)"
   ]
  },
  {
   "cell_type": "markdown",
   "id": "48c9344e",
   "metadata": {},
   "source": [
    "For feature engineering and the sake of simplicity, we're gonna concatenate the inputs `X1` with the target `Y1`"
   ]
  },
  {
   "cell_type": "code",
   "execution_count": 11,
   "id": "1efc676d",
   "metadata": {},
   "outputs": [
    {
     "data": {
      "text/html": [
       "<div>\n",
       "<style scoped>\n",
       "    .dataframe tbody tr th:only-of-type {\n",
       "        vertical-align: middle;\n",
       "    }\n",
       "\n",
       "    .dataframe tbody tr th {\n",
       "        vertical-align: top;\n",
       "    }\n",
       "\n",
       "    .dataframe thead th {\n",
       "        text-align: right;\n",
       "    }\n",
       "</style>\n",
       "<table border=\"1\" class=\"dataframe\">\n",
       "  <thead>\n",
       "    <tr style=\"text-align: right;\">\n",
       "      <th></th>\n",
       "      <th>title</th>\n",
       "      <th>img_url</th>\n",
       "      <th>description</th>\n",
       "      <th>ratings</th>\n",
       "      <th>n_votes</th>\n",
       "      <th>is_adult</th>\n",
       "      <th>production_year</th>\n",
       "      <th>runtime</th>\n",
       "      <th>genres</th>\n",
       "      <th>release_year</th>\n",
       "      <th>studio</th>\n",
       "      <th>img_embeddings</th>\n",
       "      <th>text_embeddings</th>\n",
       "      <th>revenues</th>\n",
       "    </tr>\n",
       "  </thead>\n",
       "  <tbody>\n",
       "    <tr>\n",
       "      <th>0</th>\n",
       "      <td>Letters to Juliet</td>\n",
       "      <td>https://m.media-amazon.com/images/M/MV5BMjg0OT...</td>\n",
       "      <td>Letters to Juliet: Directed by Gary Winick. Wi...</td>\n",
       "      <td>6.5</td>\n",
       "      <td>92937.0</td>\n",
       "      <td>0</td>\n",
       "      <td>2010</td>\n",
       "      <td>105.0</td>\n",
       "      <td>Adventure,Comedy,Drama</td>\n",
       "      <td>2010.0</td>\n",
       "      <td>Sum.</td>\n",
       "      <td>[0.25030804, 2.4058464, 1.0431569, 0.030648155...</td>\n",
       "      <td>[-0.6795498, 0.35658365, 0.9994932, -0.9793934...</td>\n",
       "      <td>7.158530e+07</td>\n",
       "    </tr>\n",
       "    <tr>\n",
       "      <th>1</th>\n",
       "      <td>Veil of Tears</td>\n",
       "      <td>https://m.media-amazon.com/images/M/MV5BZjMxOD...</td>\n",
       "      <td>Veil of Tears: Directed by William Gereghty. W...</td>\n",
       "      <td>7.9</td>\n",
       "      <td>11.0</td>\n",
       "      <td>0</td>\n",
       "      <td>1996</td>\n",
       "      <td>NaN</td>\n",
       "      <td>Action,Crime,Drama</td>\n",
       "      <td>2014.0</td>\n",
       "      <td>WF</td>\n",
       "      <td>[0.51250213, 2.8152602, 0.46308166, 0.29031387...</td>\n",
       "      <td>[-0.6202415, 0.31657028, 0.9992422, -0.9703722...</td>\n",
       "      <td>8.964834e+04</td>\n",
       "    </tr>\n",
       "    <tr>\n",
       "      <th>2</th>\n",
       "      <td>International Velvet</td>\n",
       "      <td>https://m.media-amazon.com/images/M/MV5BOGVkYj...</td>\n",
       "      <td>International Velvet: Directed by Bryan Forbes...</td>\n",
       "      <td>5.9</td>\n",
       "      <td>1345.0</td>\n",
       "      <td>0</td>\n",
       "      <td>1978</td>\n",
       "      <td>127.0</td>\n",
       "      <td>Drama,Family,Sport</td>\n",
       "      <td>1978.0</td>\n",
       "      <td>MGM</td>\n",
       "      <td>[0.18073043, 0.24735461, 0.63652813, 0.2496522...</td>\n",
       "      <td>[-0.709996, 0.4233521, 0.99980927, -0.98892415...</td>\n",
       "      <td>3.164907e+07</td>\n",
       "    </tr>\n",
       "    <tr>\n",
       "      <th>3</th>\n",
       "      <td>8 Seconds</td>\n",
       "      <td>https://m.media-amazon.com/images/M/MV5BYjY4Nz...</td>\n",
       "      <td>8 Seconds: Directed by John G. Avildsen. With ...</td>\n",
       "      <td>6.6</td>\n",
       "      <td>4851.0</td>\n",
       "      <td>0</td>\n",
       "      <td>1994</td>\n",
       "      <td>105.0</td>\n",
       "      <td>Biography,Drama,Sport</td>\n",
       "      <td>1994.0</td>\n",
       "      <td>NL</td>\n",
       "      <td>[0.025015268, 0.9105338, 0.3878257, 0.3421247,...</td>\n",
       "      <td>[-0.7416838, 0.38435012, 0.9998453, -0.9874693...</td>\n",
       "      <td>3.898197e+07</td>\n",
       "    </tr>\n",
       "    <tr>\n",
       "      <th>4</th>\n",
       "      <td>Penitentiary II</td>\n",
       "      <td>https://m.media-amazon.com/images/M/MV5BNjQyZW...</td>\n",
       "      <td>Penitentiary II: Directed by Jamaa Fanaka. Wit...</td>\n",
       "      <td>4.1</td>\n",
       "      <td>549.0</td>\n",
       "      <td>0</td>\n",
       "      <td>1982</td>\n",
       "      <td>108.0</td>\n",
       "      <td>Crime,Drama,Sport</td>\n",
       "      <td>1982.0</td>\n",
       "      <td>MGM</td>\n",
       "      <td>[0.19079691, 1.9068279, 0.29114372, 0.19527505...</td>\n",
       "      <td>[-0.65501904, 0.3845747, 0.9996712, -0.9766391...</td>\n",
       "      <td>9.697023e+06</td>\n",
       "    </tr>\n",
       "  </tbody>\n",
       "</table>\n",
       "</div>"
      ],
      "text/plain": [
       "                  title                                            img_url  \\\n",
       "0     Letters to Juliet  https://m.media-amazon.com/images/M/MV5BMjg0OT...   \n",
       "1         Veil of Tears  https://m.media-amazon.com/images/M/MV5BZjMxOD...   \n",
       "2  International Velvet  https://m.media-amazon.com/images/M/MV5BOGVkYj...   \n",
       "3             8 Seconds  https://m.media-amazon.com/images/M/MV5BYjY4Nz...   \n",
       "4       Penitentiary II  https://m.media-amazon.com/images/M/MV5BNjQyZW...   \n",
       "\n",
       "                                         description  ratings  n_votes  \\\n",
       "0  Letters to Juliet: Directed by Gary Winick. Wi...      6.5  92937.0   \n",
       "1  Veil of Tears: Directed by William Gereghty. W...      7.9     11.0   \n",
       "2  International Velvet: Directed by Bryan Forbes...      5.9   1345.0   \n",
       "3  8 Seconds: Directed by John G. Avildsen. With ...      6.6   4851.0   \n",
       "4  Penitentiary II: Directed by Jamaa Fanaka. Wit...      4.1    549.0   \n",
       "\n",
       "   is_adult  production_year  runtime                  genres  release_year  \\\n",
       "0         0             2010    105.0  Adventure,Comedy,Drama        2010.0   \n",
       "1         0             1996      NaN      Action,Crime,Drama        2014.0   \n",
       "2         0             1978    127.0      Drama,Family,Sport        1978.0   \n",
       "3         0             1994    105.0   Biography,Drama,Sport        1994.0   \n",
       "4         0             1982    108.0       Crime,Drama,Sport        1982.0   \n",
       "\n",
       "  studio                                     img_embeddings  \\\n",
       "0   Sum.  [0.25030804, 2.4058464, 1.0431569, 0.030648155...   \n",
       "1     WF  [0.51250213, 2.8152602, 0.46308166, 0.29031387...   \n",
       "2    MGM  [0.18073043, 0.24735461, 0.63652813, 0.2496522...   \n",
       "3     NL  [0.025015268, 0.9105338, 0.3878257, 0.3421247,...   \n",
       "4    MGM  [0.19079691, 1.9068279, 0.29114372, 0.19527505...   \n",
       "\n",
       "                                     text_embeddings      revenues  \n",
       "0  [-0.6795498, 0.35658365, 0.9994932, -0.9793934...  7.158530e+07  \n",
       "1  [-0.6202415, 0.31657028, 0.9992422, -0.9703722...  8.964834e+04  \n",
       "2  [-0.709996, 0.4233521, 0.99980927, -0.98892415...  3.164907e+07  \n",
       "3  [-0.7416838, 0.38435012, 0.9998453, -0.9874693...  3.898197e+07  \n",
       "4  [-0.65501904, 0.3845747, 0.9996712, -0.9766391...  9.697023e+06  "
      ]
     },
     "execution_count": 11,
     "metadata": {},
     "output_type": "execute_result"
    }
   ],
   "source": [
    "df = pd.concat([X1, Y1], axis = 1)\n",
    "df.head()"
   ]
  },
  {
   "cell_type": "markdown",
   "id": "4c18308a",
   "metadata": {},
   "source": [
    "## EDA"
   ]
  },
  {
   "cell_type": "markdown",
   "id": "568ae219",
   "metadata": {},
   "source": [
    "### Types of variables"
   ]
  },
  {
   "cell_type": "markdown",
   "id": "4f59bc5c",
   "metadata": {},
   "source": [
    "First, let's rename `Unnamed: 0` column to `movie_id`"
   ]
  },
  {
   "cell_type": "markdown",
   "id": "5200c7a1",
   "metadata": {},
   "source": [
    "Let's check the different types of variables"
   ]
  },
  {
   "cell_type": "code",
   "execution_count": 12,
   "id": "52be556c",
   "metadata": {},
   "outputs": [
    {
     "data": {
      "text/plain": [
       "object     7\n",
       "float64    5\n",
       "int64      2\n",
       "dtype: int64"
      ]
     },
     "execution_count": 12,
     "metadata": {},
     "output_type": "execute_result"
    }
   ],
   "source": [
    "# types of variables\n",
    "df.dtypes.value_counts()"
   ]
  },
  {
   "cell_type": "code",
   "execution_count": 13,
   "id": "1e918274",
   "metadata": {},
   "outputs": [
    {
     "name": "stdout",
     "output_type": "stream",
     "text": [
      "<class 'pandas.core.frame.DataFrame'>\n",
      "RangeIndex: 3540 entries, 0 to 3539\n",
      "Data columns (total 14 columns):\n",
      " #   Column           Non-Null Count  Dtype  \n",
      "---  ------           --------------  -----  \n",
      " 0   title            3540 non-null   object \n",
      " 1   img_url          3540 non-null   object \n",
      " 2   description      3540 non-null   object \n",
      " 3   ratings          3540 non-null   float64\n",
      " 4   n_votes          3540 non-null   float64\n",
      " 5   is_adult         3540 non-null   int64  \n",
      " 6   production_year  3540 non-null   int64  \n",
      " 7   runtime          3276 non-null   float64\n",
      " 8   genres           3536 non-null   object \n",
      " 9   release_year     3540 non-null   float64\n",
      " 10  studio           3540 non-null   object \n",
      " 11  img_embeddings   3540 non-null   object \n",
      " 12  text_embeddings  3540 non-null   object \n",
      " 13  revenues         3540 non-null   float64\n",
      "dtypes: float64(5), int64(2), object(7)\n",
      "memory usage: 387.3+ KB\n"
     ]
    }
   ],
   "source": [
    "df.info()"
   ]
  },
  {
   "cell_type": "markdown",
   "id": "265dc641",
   "metadata": {},
   "source": [
    "- `n_votes` and `release_year` are of type **float** but we could have thought they would be of type **int**."
   ]
  },
  {
   "cell_type": "code",
   "execution_count": 14,
   "id": "5e4903d6",
   "metadata": {},
   "outputs": [
    {
     "data": {
      "text/plain": [
       "array([9.2937e+04, 1.1000e+01, 1.3450e+03, ..., 2.2860e+03, 4.1810e+03,\n",
       "       2.7379e+04])"
      ]
     },
     "execution_count": 14,
     "metadata": {},
     "output_type": "execute_result"
    }
   ],
   "source": [
    "df[\"n_votes\"].unique()"
   ]
  },
  {
   "cell_type": "code",
   "execution_count": 15,
   "id": "4e4a86ec",
   "metadata": {},
   "outputs": [
    {
     "data": {
      "text/plain": [
       "array([2010., 2014., 1978., 1994., 1982., 2000., 1990., 2002., 1997.,\n",
       "       2009., 2001., 2003., 2007., 1992., 1998., 1995., 2008., 1983.,\n",
       "       2015., 1991., 2016., 2006., 1973., 2004., 2011., 1999., 1986.,\n",
       "       2005., 1996., 2013., 1993., 1989., 2012., 1987., 1988., 2017.,\n",
       "       1980., 1985., 1981., 1979., 1984., 1977., 2018., 1946., 1975.,\n",
       "       1966., 1971., 1974., 1941., 1957., 1970., 1976., 1972., 1959.])"
      ]
     },
     "execution_count": 15,
     "metadata": {},
     "output_type": "execute_result"
    }
   ],
   "source": [
    "df[\"release_year\"].unique()"
   ]
  },
  {
   "cell_type": "markdown",
   "id": "c4adec72",
   "metadata": {},
   "source": [
    "For sure we could convert `release_year` to type **int**."
   ]
  },
  {
   "cell_type": "markdown",
   "id": "4d1625a3",
   "metadata": {},
   "source": [
    "### Duplicated observations"
   ]
  },
  {
   "cell_type": "markdown",
   "id": "2d30b22b",
   "metadata": {},
   "source": [
    "Let's check if we have any duplicate observations (we saw before that there could be duplicated movies with different `movie_id`)"
   ]
  },
  {
   "cell_type": "code",
   "execution_count": 16,
   "id": "a90b87d7",
   "metadata": {},
   "outputs": [
    {
     "data": {
      "text/plain": [
       "title              432\n",
       "img_url            432\n",
       "description        432\n",
       "ratings            432\n",
       "n_votes            432\n",
       "is_adult           432\n",
       "production_year    432\n",
       "runtime            395\n",
       "genres             431\n",
       "release_year       432\n",
       "studio             432\n",
       "img_embeddings     432\n",
       "text_embeddings    432\n",
       "revenues           432\n",
       "dtype: int64"
      ]
     },
     "execution_count": 16,
     "metadata": {},
     "output_type": "execute_result"
    }
   ],
   "source": [
    "df[df.duplicated(subset=df.columns.difference([\"revenues\"]))].count()"
   ]
  },
  {
   "cell_type": "markdown",
   "id": "428b39db",
   "metadata": {},
   "source": [
    "We have 432 duplicated observations"
   ]
  },
  {
   "cell_type": "markdown",
   "id": "60f4928f",
   "metadata": {},
   "source": [
    "### Missing values"
   ]
  },
  {
   "cell_type": "markdown",
   "id": "d57ac92c",
   "metadata": {},
   "source": [
    "Let's see if there is any empty values"
   ]
  },
  {
   "cell_type": "code",
   "execution_count": 17,
   "id": "e2ca14a7",
   "metadata": {},
   "outputs": [
    {
     "data": {
      "text/plain": [
       "title                0\n",
       "img_url              0\n",
       "description          0\n",
       "ratings              0\n",
       "n_votes              0\n",
       "is_adult             0\n",
       "production_year      0\n",
       "runtime            264\n",
       "genres               4\n",
       "release_year         0\n",
       "studio               0\n",
       "img_embeddings       0\n",
       "text_embeddings      0\n",
       "revenues             0\n",
       "dtype: int64"
      ]
     },
     "execution_count": 17,
     "metadata": {},
     "output_type": "execute_result"
    }
   ],
   "source": [
    "df.isna().sum()"
   ]
  },
  {
   "cell_type": "code",
   "execution_count": 18,
   "id": "321cef78",
   "metadata": {},
   "outputs": [
    {
     "data": {
      "text/plain": [
       "Unnamed: 0           0\n",
       "title                0\n",
       "img_url              0\n",
       "description          0\n",
       "ratings              0\n",
       "n_votes              0\n",
       "is_adult             0\n",
       "production_year      0\n",
       "runtime            106\n",
       "genres               4\n",
       "release_year         0\n",
       "studio               0\n",
       "img_embeddings       0\n",
       "text_embeddings      0\n",
       "dtype: int64"
      ]
     },
     "execution_count": 18,
     "metadata": {},
     "output_type": "execute_result"
    }
   ],
   "source": [
    "# number of missing values\n",
    "X2.isna().sum()"
   ]
  },
  {
   "cell_type": "markdown",
   "id": "4e23f51f",
   "metadata": {},
   "source": [
    "Dataset for modelling :\n",
    "There are 264 missing values for `runtime` feature and 4 missing values for `genres` feature.\n",
    "\n",
    "Dataset for prediction :\n",
    "There are 106 missing values for `runtime` feature and 4 missing values for `genres` feature."
   ]
  },
  {
   "cell_type": "code",
   "execution_count": 19,
   "id": "27a71606",
   "metadata": {},
   "outputs": [
    {
     "data": {
      "text/plain": [
       "title              0.00\n",
       "img_url            0.00\n",
       "description        0.00\n",
       "ratings            0.00\n",
       "n_votes            0.00\n",
       "is_adult           0.00\n",
       "production_year    0.00\n",
       "runtime            7.46\n",
       "genres             0.11\n",
       "release_year       0.00\n",
       "studio             0.00\n",
       "img_embeddings     0.00\n",
       "text_embeddings    0.00\n",
       "revenues           0.00\n",
       "dtype: float64"
      ]
     },
     "execution_count": 19,
     "metadata": {},
     "output_type": "execute_result"
    }
   ],
   "source": [
    "# percentage of missing values\n",
    "((df.isna().sum() / df.shape[0]) * 100).round(decimals = 2)"
   ]
  },
  {
   "cell_type": "code",
   "execution_count": 20,
   "id": "22353398",
   "metadata": {},
   "outputs": [
    {
     "data": {
      "text/plain": [
       "Unnamed: 0         0.00\n",
       "title              0.00\n",
       "img_url            0.00\n",
       "description        0.00\n",
       "ratings            0.00\n",
       "n_votes            0.00\n",
       "is_adult           0.00\n",
       "production_year    0.00\n",
       "runtime            6.98\n",
       "genres             0.26\n",
       "release_year       0.00\n",
       "studio             0.00\n",
       "img_embeddings     0.00\n",
       "text_embeddings    0.00\n",
       "dtype: float64"
      ]
     },
     "execution_count": 20,
     "metadata": {},
     "output_type": "execute_result"
    }
   ],
   "source": [
    "((X2.isna().sum() / X2.shape[0]) * 100).round(decimals = 2)"
   ]
  },
  {
   "cell_type": "code",
   "execution_count": 21,
   "id": "add9fc09",
   "metadata": {},
   "outputs": [
    {
     "data": {
      "text/plain": [
       "<AxesSubplot:>"
      ]
     },
     "execution_count": 21,
     "metadata": {},
     "output_type": "execute_result"
    },
    {
     "data": {
      "image/png": "[encoded data removed]",
      "text/plain": [
       "<Figure size 2000x1000 with 1 Axes>"
      ]
     },
     "metadata": {},
     "output_type": "display_data"
    }
   ],
   "source": [
    "plt.figure(figsize = (20, 10))\n",
    "sns.heatmap(df.isna(), cbar = False)"
   ]
  },
  {
   "cell_type": "markdown",
   "id": "dd1a3924",
   "metadata": {},
   "source": [
    "Let's check the rows containing missing values"
   ]
  },
  {
   "cell_type": "code",
   "execution_count": 22,
   "id": "2a29d8ab",
   "metadata": {},
   "outputs": [
    {
     "data": {
      "text/html": [
       "<div>\n",
       "<style scoped>\n",
       "    .dataframe tbody tr th:only-of-type {\n",
       "        vertical-align: middle;\n",
       "    }\n",
       "\n",
       "    .dataframe tbody tr th {\n",
       "        vertical-align: top;\n",
       "    }\n",
       "\n",
       "    .dataframe thead th {\n",
       "        text-align: right;\n",
       "    }\n",
       "</style>\n",
       "<table border=\"1\" class=\"dataframe\">\n",
       "  <thead>\n",
       "    <tr style=\"text-align: right;\">\n",
       "      <th></th>\n",
       "      <th>title</th>\n",
       "      <th>img_url</th>\n",
       "      <th>description</th>\n",
       "      <th>ratings</th>\n",
       "      <th>n_votes</th>\n",
       "      <th>is_adult</th>\n",
       "      <th>production_year</th>\n",
       "      <th>runtime</th>\n",
       "      <th>genres</th>\n",
       "      <th>release_year</th>\n",
       "      <th>studio</th>\n",
       "      <th>img_embeddings</th>\n",
       "      <th>text_embeddings</th>\n",
       "      <th>revenues</th>\n",
       "    </tr>\n",
       "  </thead>\n",
       "  <tbody>\n",
       "    <tr>\n",
       "      <th>1</th>\n",
       "      <td>Veil of Tears</td>\n",
       "      <td>https://m.media-amazon.com/images/M/MV5BZjMxOD...</td>\n",
       "      <td>Veil of Tears: Directed by William Gereghty. W...</td>\n",
       "      <td>7.9</td>\n",
       "      <td>11.0</td>\n",
       "      <td>0</td>\n",
       "      <td>1996</td>\n",
       "      <td>NaN</td>\n",
       "      <td>Action,Crime,Drama</td>\n",
       "      <td>2014.0</td>\n",
       "      <td>WF</td>\n",
       "      <td>[0.51250213, 2.8152602, 0.46308166, 0.29031387...</td>\n",
       "      <td>[-0.6202415, 0.31657028, 0.9992422, -0.9703722...</td>\n",
       "      <td>8.964834e+04</td>\n",
       "    </tr>\n",
       "    <tr>\n",
       "      <th>9</th>\n",
       "      <td>Change of Plans</td>\n",
       "      <td>https://m.media-amazon.com/images/M/MV5BMDFhZj...</td>\n",
       "      <td>Change of Plans: Directed by Randy Zisk. With ...</td>\n",
       "      <td>8.2</td>\n",
       "      <td>12.0</td>\n",
       "      <td>0</td>\n",
       "      <td>1992</td>\n",
       "      <td>NaN</td>\n",
       "      <td>Crime,Drama</td>\n",
       "      <td>2010.0</td>\n",
       "      <td>IFC</td>\n",
       "      <td>[0.20134872, 3.3128614, 1.3217659, 0.05505188,...</td>\n",
       "      <td>[-0.7538657, 0.43110898, 0.9997868, -0.9895797...</td>\n",
       "      <td>6.305640e+04</td>\n",
       "    </tr>\n",
       "    <tr>\n",
       "      <th>38</th>\n",
       "      <td>Clown</td>\n",
       "      <td>https://m.media-amazon.com/images/M/MV5BMjBiOD...</td>\n",
       "      <td>Clown: Directed by Steve Lyons. With Jeff Benn...</td>\n",
       "      <td>8.6</td>\n",
       "      <td>5.0</td>\n",
       "      <td>0</td>\n",
       "      <td>2001</td>\n",
       "      <td>NaN</td>\n",
       "      <td>Animation,Comedy,Family</td>\n",
       "      <td>2016.0</td>\n",
       "      <td>W/Dim.</td>\n",
       "      <td>[0.14516667, 0.06064418, 0.15632975, 0.1824489...</td>\n",
       "      <td>[-0.65403396, 0.3780646, 0.999505, -0.97987425...</td>\n",
       "      <td>6.747525e+04</td>\n",
       "    </tr>\n",
       "    <tr>\n",
       "      <th>41</th>\n",
       "      <td>Rugrats in Paris: The Movie</td>\n",
       "      <td>https://m.media-amazon.com/images/M/MV5BYzBiNW...</td>\n",
       "      <td>Rugrats in Paris: The Movie: With Cheryl Chase...</td>\n",
       "      <td>6.4</td>\n",
       "      <td>74.0</td>\n",
       "      <td>0</td>\n",
       "      <td>2000</td>\n",
       "      <td>NaN</td>\n",
       "      <td>Action,Adventure,Comedy</td>\n",
       "      <td>2000.0</td>\n",
       "      <td>Par.</td>\n",
       "      <td>[0.47641614, 0.82069486, 0.22295909, 0.1736825...</td>\n",
       "      <td>[-0.68661237, 0.37858504, 0.9997692, -0.978913...</td>\n",
       "      <td>1.308007e+08</td>\n",
       "    </tr>\n",
       "    <tr>\n",
       "      <th>57</th>\n",
       "      <td>In Bloom</td>\n",
       "      <td>https://m.media-amazon.com/images/M/MV5BYWNmZj...</td>\n",
       "      <td>In Bloom: Directed by Marc Buckland. With Neal...</td>\n",
       "      <td>8.4</td>\n",
       "      <td>16.0</td>\n",
       "      <td>0</td>\n",
       "      <td>2004</td>\n",
       "      <td>NaN</td>\n",
       "      <td>Drama,Mystery</td>\n",
       "      <td>2014.0</td>\n",
       "      <td>BWP</td>\n",
       "      <td>[0.30072853, 3.2013667, 0.42100322, 0.10732664...</td>\n",
       "      <td>[-0.787354, 0.46719107, 0.9998723, -0.9922189,...</td>\n",
       "      <td>6.976546e+04</td>\n",
       "    </tr>\n",
       "    <tr>\n",
       "      <th>...</th>\n",
       "      <td>...</td>\n",
       "      <td>...</td>\n",
       "      <td>...</td>\n",
       "      <td>...</td>\n",
       "      <td>...</td>\n",
       "      <td>...</td>\n",
       "      <td>...</td>\n",
       "      <td>...</td>\n",
       "      <td>...</td>\n",
       "      <td>...</td>\n",
       "      <td>...</td>\n",
       "      <td>...</td>\n",
       "      <td>...</td>\n",
       "      <td>...</td>\n",
       "    </tr>\n",
       "    <tr>\n",
       "      <th>3492</th>\n",
       "      <td>The Channel</td>\n",
       "      <td>https://m.media-amazon.com/images/M/MV5BNzAwOT...</td>\n",
       "      <td>The Channel: Directed by Jorge Montesi. With S...</td>\n",
       "      <td>7.3</td>\n",
       "      <td>26.0</td>\n",
       "      <td>0</td>\n",
       "      <td>1999</td>\n",
       "      <td>NaN</td>\n",
       "      <td>Adventure,Drama,Mystery</td>\n",
       "      <td>2016.0</td>\n",
       "      <td>Indic.</td>\n",
       "      <td>[0.3205554, 0.3742889, 0.11509394, 0.9490364, ...</td>\n",
       "      <td>[-0.60545, 0.31592008, 0.9992462, -0.97367644,...</td>\n",
       "      <td>2.247131e+04</td>\n",
       "    </tr>\n",
       "    <tr>\n",
       "      <th>3495</th>\n",
       "      <td>Darshan</td>\n",
       "      <td>https://m.media-amazon.com/images/M/MV5BN2Y2Zj...</td>\n",
       "      <td>Darshan: Directed by Chimanlal Luhar. With Pre...</td>\n",
       "      <td>7.0</td>\n",
       "      <td>8.0</td>\n",
       "      <td>0</td>\n",
       "      <td>1941</td>\n",
       "      <td>NaN</td>\n",
       "      <td>NaN</td>\n",
       "      <td>2006.0</td>\n",
       "      <td>IFC</td>\n",
       "      <td>[0.056906767, 0.1291496, 0.07299683, 0.0496285...</td>\n",
       "      <td>[-0.7949531, 0.46442604, 0.99984866, -0.991559...</td>\n",
       "      <td>9.642768e+04</td>\n",
       "    </tr>\n",
       "    <tr>\n",
       "      <th>3496</th>\n",
       "      <td>Dog Days of Summer</td>\n",
       "      <td>https://m.media-amazon.com/images/M/MV5BMjExNj...</td>\n",
       "      <td>Dog Days of Summer: Directed by Chris Buck, Cl...</td>\n",
       "      <td>6.2</td>\n",
       "      <td>6.0</td>\n",
       "      <td>0</td>\n",
       "      <td>1993</td>\n",
       "      <td>NaN</td>\n",
       "      <td>Animation,Comedy,Family</td>\n",
       "      <td>2008.0</td>\n",
       "      <td>MTop</td>\n",
       "      <td>[0.21031177, 0.622036, 0.10827673, 0.14782186,...</td>\n",
       "      <td>[-0.672096, 0.35698575, 0.9996098, -0.98000515...</td>\n",
       "      <td>7.360684e+03</td>\n",
       "    </tr>\n",
       "    <tr>\n",
       "      <th>3504</th>\n",
       "      <td>Area 51</td>\n",
       "      <td>https://m.media-amazon.com/images/M/MV5BMjE4Nz...</td>\n",
       "      <td>Area 51: With Tom Kane, Joerg Arnu, T.D. Barne...</td>\n",
       "      <td>5.7</td>\n",
       "      <td>6.0</td>\n",
       "      <td>0</td>\n",
       "      <td>2004</td>\n",
       "      <td>NaN</td>\n",
       "      <td>Documentary</td>\n",
       "      <td>2015.0</td>\n",
       "      <td>PARAIN</td>\n",
       "      <td>[0.68146044, 1.8886466, 2.4086003, 0.9816384, ...</td>\n",
       "      <td>[-0.6459968, 0.31116134, 0.99957985, -0.981476...</td>\n",
       "      <td>9.386019e+03</td>\n",
       "    </tr>\n",
       "    <tr>\n",
       "      <th>3522</th>\n",
       "      <td>Batman Returns</td>\n",
       "      <td>https://m.media-amazon.com/images/M/MV5BMmM1Nj...</td>\n",
       "      <td>Batman Returns: With Oliver Theess. The game f...</td>\n",
       "      <td>7.5</td>\n",
       "      <td>375.0</td>\n",
       "      <td>0</td>\n",
       "      <td>1992</td>\n",
       "      <td>NaN</td>\n",
       "      <td>Action,Adventure,Crime</td>\n",
       "      <td>1992.0</td>\n",
       "      <td>WB</td>\n",
       "      <td>[0.26729304, 2.3011925, 0.06605777, 0.36532426...</td>\n",
       "      <td>[-0.666061, 0.40575597, 0.9997798, -0.9772026,...</td>\n",
       "      <td>3.416796e+08</td>\n",
       "    </tr>\n",
       "  </tbody>\n",
       "</table>\n",
       "<p>265 rows × 14 columns</p>\n",
       "</div>"
      ],
      "text/plain": [
       "                            title  \\\n",
       "1                   Veil of Tears   \n",
       "9                 Change of Plans   \n",
       "38                          Clown   \n",
       "41    Rugrats in Paris: The Movie   \n",
       "57                       In Bloom   \n",
       "...                           ...   \n",
       "3492                  The Channel   \n",
       "3495                      Darshan   \n",
       "3496           Dog Days of Summer   \n",
       "3504                      Area 51   \n",
       "3522               Batman Returns   \n",
       "\n",
       "                                                img_url  \\\n",
       "1     https://m.media-amazon.com/images/M/MV5BZjMxOD...   \n",
       "9     https://m.media-amazon.com/images/M/MV5BMDFhZj...   \n",
       "38    https://m.media-amazon.com/images/M/MV5BMjBiOD...   \n",
       "41    https://m.media-amazon.com/images/M/MV5BYzBiNW...   \n",
       "57    https://m.media-amazon.com/images/M/MV5BYWNmZj...   \n",
       "...                                                 ...   \n",
       "3492  https://m.media-amazon.com/images/M/MV5BNzAwOT...   \n",
       "3495  https://m.media-amazon.com/images/M/MV5BN2Y2Zj...   \n",
       "3496  https://m.media-amazon.com/images/M/MV5BMjExNj...   \n",
       "3504  https://m.media-amazon.com/images/M/MV5BMjE4Nz...   \n",
       "3522  https://m.media-amazon.com/images/M/MV5BMmM1Nj...   \n",
       "\n",
       "                                            description  ratings  n_votes  \\\n",
       "1     Veil of Tears: Directed by William Gereghty. W...      7.9     11.0   \n",
       "9     Change of Plans: Directed by Randy Zisk. With ...      8.2     12.0   \n",
       "38    Clown: Directed by Steve Lyons. With Jeff Benn...      8.6      5.0   \n",
       "41    Rugrats in Paris: The Movie: With Cheryl Chase...      6.4     74.0   \n",
       "57    In Bloom: Directed by Marc Buckland. With Neal...      8.4     16.0   \n",
       "...                                                 ...      ...      ...   \n",
       "3492  The Channel: Directed by Jorge Montesi. With S...      7.3     26.0   \n",
       "3495  Darshan: Directed by Chimanlal Luhar. With Pre...      7.0      8.0   \n",
       "3496  Dog Days of Summer: Directed by Chris Buck, Cl...      6.2      6.0   \n",
       "3504  Area 51: With Tom Kane, Joerg Arnu, T.D. Barne...      5.7      6.0   \n",
       "3522  Batman Returns: With Oliver Theess. The game f...      7.5    375.0   \n",
       "\n",
       "      is_adult  production_year  runtime                   genres  \\\n",
       "1            0             1996      NaN       Action,Crime,Drama   \n",
       "9            0             1992      NaN              Crime,Drama   \n",
       "38           0             2001      NaN  Animation,Comedy,Family   \n",
       "41           0             2000      NaN  Action,Adventure,Comedy   \n",
       "57           0             2004      NaN            Drama,Mystery   \n",
       "...        ...              ...      ...                      ...   \n",
       "3492         0             1999      NaN  Adventure,Drama,Mystery   \n",
       "3495         0             1941      NaN                      NaN   \n",
       "3496         0             1993      NaN  Animation,Comedy,Family   \n",
       "3504         0             2004      NaN              Documentary   \n",
       "3522         0             1992      NaN   Action,Adventure,Crime   \n",
       "\n",
       "      release_year  studio                                     img_embeddings  \\\n",
       "1           2014.0      WF  [0.51250213, 2.8152602, 0.46308166, 0.29031387...   \n",
       "9           2010.0     IFC  [0.20134872, 3.3128614, 1.3217659, 0.05505188,...   \n",
       "38          2016.0  W/Dim.  [0.14516667, 0.06064418, 0.15632975, 0.1824489...   \n",
       "41          2000.0    Par.  [0.47641614, 0.82069486, 0.22295909, 0.1736825...   \n",
       "57          2014.0     BWP  [0.30072853, 3.2013667, 0.42100322, 0.10732664...   \n",
       "...            ...     ...                                                ...   \n",
       "3492        2016.0  Indic.  [0.3205554, 0.3742889, 0.11509394, 0.9490364, ...   \n",
       "3495        2006.0     IFC  [0.056906767, 0.1291496, 0.07299683, 0.0496285...   \n",
       "3496        2008.0    MTop  [0.21031177, 0.622036, 0.10827673, 0.14782186,...   \n",
       "3504        2015.0  PARAIN  [0.68146044, 1.8886466, 2.4086003, 0.9816384, ...   \n",
       "3522        1992.0      WB  [0.26729304, 2.3011925, 0.06605777, 0.36532426...   \n",
       "\n",
       "                                        text_embeddings      revenues  \n",
       "1     [-0.6202415, 0.31657028, 0.9992422, -0.9703722...  8.964834e+04  \n",
       "9     [-0.7538657, 0.43110898, 0.9997868, -0.9895797...  6.305640e+04  \n",
       "38    [-0.65403396, 0.3780646, 0.999505, -0.97987425...  6.747525e+04  \n",
       "41    [-0.68661237, 0.37858504, 0.9997692, -0.978913...  1.308007e+08  \n",
       "57    [-0.787354, 0.46719107, 0.9998723, -0.9922189,...  6.976546e+04  \n",
       "...                                                 ...           ...  \n",
       "3492  [-0.60545, 0.31592008, 0.9992462, -0.97367644,...  2.247131e+04  \n",
       "3495  [-0.7949531, 0.46442604, 0.99984866, -0.991559...  9.642768e+04  \n",
       "3496  [-0.672096, 0.35698575, 0.9996098, -0.98000515...  7.360684e+03  \n",
       "3504  [-0.6459968, 0.31116134, 0.99957985, -0.981476...  9.386019e+03  \n",
       "3522  [-0.666061, 0.40575597, 0.9997798, -0.9772026,...  3.416796e+08  \n",
       "\n",
       "[265 rows x 14 columns]"
      ]
     },
     "execution_count": 22,
     "metadata": {},
     "output_type": "execute_result"
    }
   ],
   "source": [
    "df.loc[df.isna().any(axis=1)]"
   ]
  },
  {
   "cell_type": "markdown",
   "id": "b77690af",
   "metadata": {},
   "source": [
    "**Rule of thumb**: _if values are missing at random and percentage of observations with these missing values are less than $5\\%$. We can drop them without risking of creating bias in our dataset._\n",
    "\n",
    "We have $0.3\\%$ of entries with missing values for `genres` features. These are random missing values (no reason for these to be missing, probably forgotten) so we can definitelty drop these entries without risk of creating bias in our dataset.\n",
    "However, for the `runtime` feature, we have ~ $7\\%$ of missing values. That's a little bit much for removing all these entries even though they also seem to be random missing values.\n",
    "\n",
    "We could try to impute by mean or something else."
   ]
  },
  {
   "cell_type": "code",
   "execution_count": 23,
   "id": "f8f8f916",
   "metadata": {},
   "outputs": [
    {
     "name": "stdout",
     "output_type": "stream",
     "text": [
      "0    90.0\n",
      "Name: runtime, dtype: float64\n"
     ]
    },
    {
     "data": {
      "image/png": "[encoded data removed]",
      "text/plain": [
       "<Figure size 640x480 with 1 Axes>"
      ]
     },
     "metadata": {},
     "output_type": "display_data"
    }
   ],
   "source": [
    "sns.histplot(df[\"runtime\"])\n",
    "\n",
    "print(df[\"runtime\"].mode())"
   ]
  },
  {
   "cell_type": "markdown",
   "id": "9c33d5ce",
   "metadata": {},
   "source": [
    "If data is missing randomly but the rows with these missing values are more than $5\\%$ of the dataset, we can use **mean** (in case feature is normally distributed) or **median** (otherwise) imputation. We can also consider **mode** imputation.\n",
    "\n",
    "However, keep in mind it affects data distribution (in particular the variance is reduced)."
   ]
  },
  {
   "cell_type": "code",
   "execution_count": 24,
   "id": "498aad53",
   "metadata": {},
   "outputs": [
    {
     "name": "stdout",
     "output_type": "stream",
     "text": [
      "runtime mean: 92.29334554334554\n",
      "runtime median: 95.0\n",
      "runtime mode: 0    90.0\n",
      "Name: runtime, dtype: float64\n"
     ]
    }
   ],
   "source": [
    "print(\"runtime mean: {}\".format(df[\"runtime\"].mean()))\n",
    "print(\"runtime median: {}\".format(df[\"runtime\"].median()))\n",
    "print(\"runtime mode: {}\".format(df[\"runtime\"].mode()))"
   ]
  },
  {
   "cell_type": "markdown",
   "id": "90b5fd89",
   "metadata": {},
   "source": [
    "### Analysis of features"
   ]
  },
  {
   "cell_type": "code",
   "execution_count": 25,
   "id": "ad90e027",
   "metadata": {
    "scrolled": false
   },
   "outputs": [
    {
     "data": {
      "image/png": "[encoded data removed]",
      "text/plain": [
       "<Figure size 2000x3000 with 2 Axes>"
      ]
     },
     "metadata": {},
     "output_type": "display_data"
    }
   ],
   "source": [
    "plt.subplots(figsize=(20,30))\n",
    "\n",
    "i = 1\n",
    "\n",
    "for col in df.select_dtypes(\"int\"):\n",
    "    plt.subplot(4,3,i)\n",
    "    sns.histplot(df[col])\n",
    "    i += 1"
   ]
  },
  {
   "cell_type": "markdown",
   "id": "d9b669d7",
   "metadata": {},
   "source": [
    "There seems to be only _non-adult_ movies (to confirm later).\n",
    "\n",
    "Movies were mainly produced between **1990** and **2010**. We have a slightly left skewed distribution but it is more or less **normally distributed**."
   ]
  },
  {
   "cell_type": "code",
   "execution_count": 26,
   "id": "a9d9cd95",
   "metadata": {},
   "outputs": [
    {
     "data": {
      "text/plain": [
       "0    3540\n",
       "Name: is_adult, dtype: int64"
      ]
     },
     "execution_count": 26,
     "metadata": {},
     "output_type": "execute_result"
    }
   ],
   "source": [
    "df[\"is_adult\"].value_counts()"
   ]
  },
  {
   "cell_type": "markdown",
   "id": "0f4377bb",
   "metadata": {},
   "source": [
    "Indeed, we **do not have any movies** for a _mature audience_. \n",
    "Therefore, we could drop this column."
   ]
  },
  {
   "cell_type": "code",
   "execution_count": 27,
   "id": "000a080c",
   "metadata": {
    "scrolled": false
   },
   "outputs": [
    {
     "data": {
      "image/png": "[encoded data removed]",
      "text/plain": [
       "<Figure size 2000x3000 with 5 Axes>"
      ]
     },
     "metadata": {},
     "output_type": "display_data"
    }
   ],
   "source": [
    "plt.subplots(figsize=(20,30))\n",
    "\n",
    "i = 1\n",
    "\n",
    "for col in df.select_dtypes(\"float\"):\n",
    "    plt.subplot(4, 3, i)\n",
    "    sns.histplot(df[col])\n",
    "    i += 1"
   ]
  },
  {
   "cell_type": "markdown",
   "id": "642461da",
   "metadata": {},
   "source": [
    "- `ratings`, `runtime` and `release_year` features are more or less **normally distributed**.\n",
    "\n",
    "- `ratings` have a mean around **6.5**.\n",
    "\n",
    "- Most movies were released between **2005** and **2010**. \n",
    "\n",
    "- `n_votes` feature and `revenues` target are **heavily right skewed**. We will have to manage that."
   ]
  },
  {
   "cell_type": "markdown",
   "id": "542471de",
   "metadata": {},
   "source": [
    "### Skewness and outliers analysis"
   ]
  },
  {
   "cell_type": "code",
   "execution_count": 28,
   "id": "2ce9f6a0",
   "metadata": {},
   "outputs": [
    {
     "data": {
      "text/plain": [
       "<AxesSubplot:ylabel='n_votes'>"
      ]
     },
     "execution_count": 28,
     "metadata": {},
     "output_type": "execute_result"
    },
    {
     "data": {
      "image/png": "[encoded data removed]",
      "text/plain": [
       "<Figure size 640x480 with 1 Axes>"
      ]
     },
     "metadata": {},
     "output_type": "display_data"
    }
   ],
   "source": [
    "sns.boxplot(y = df[\"n_votes\"])"
   ]
  },
  {
   "cell_type": "code",
   "execution_count": 29,
   "id": "3ee840cb",
   "metadata": {},
   "outputs": [
    {
     "data": {
      "text/plain": [
       "<AxesSubplot:ylabel='revenues'>"
      ]
     },
     "execution_count": 29,
     "metadata": {},
     "output_type": "execute_result"
    },
    {
     "data": {
      "image/png": "[encoded data removed]",
      "text/plain": [
       "<Figure size 640x480 with 1 Axes>"
      ]
     },
     "metadata": {},
     "output_type": "display_data"
    }
   ],
   "source": [
    "sns.boxplot(y = df[\"revenues\"])"
   ]
  },
  {
   "cell_type": "markdown",
   "id": "bffb6cae",
   "metadata": {},
   "source": [
    "For these two variables, 50% of the data are concentrated on a small range of values. But they contain a lot of outliers until pretty high values (that's why distribution is heavily right skewed)."
   ]
  },
  {
   "cell_type": "code",
   "execution_count": 30,
   "id": "2abe11eb",
   "metadata": {
    "scrolled": true
   },
   "outputs": [
    {
     "data": {
      "text/html": [
       "<div>\n",
       "<style scoped>\n",
       "    .dataframe tbody tr th:only-of-type {\n",
       "        vertical-align: middle;\n",
       "    }\n",
       "\n",
       "    .dataframe tbody tr th {\n",
       "        vertical-align: top;\n",
       "    }\n",
       "\n",
       "    .dataframe thead th {\n",
       "        text-align: right;\n",
       "    }\n",
       "</style>\n",
       "<table border=\"1\" class=\"dataframe\">\n",
       "  <thead>\n",
       "    <tr style=\"text-align: right;\">\n",
       "      <th></th>\n",
       "      <th>ratings</th>\n",
       "      <th>n_votes</th>\n",
       "      <th>is_adult</th>\n",
       "      <th>production_year</th>\n",
       "      <th>runtime</th>\n",
       "      <th>release_year</th>\n",
       "      <th>revenues</th>\n",
       "    </tr>\n",
       "  </thead>\n",
       "  <tbody>\n",
       "    <tr>\n",
       "      <th>count</th>\n",
       "      <td>3540.000000</td>\n",
       "      <td>3.540000e+03</td>\n",
       "      <td>3540.0</td>\n",
       "      <td>3540.000000</td>\n",
       "      <td>3276.000000</td>\n",
       "      <td>3540.000000</td>\n",
       "      <td>3.540000e+03</td>\n",
       "    </tr>\n",
       "    <tr>\n",
       "      <th>mean</th>\n",
       "      <td>6.426582</td>\n",
       "      <td>2.337422e+04</td>\n",
       "      <td>0.0</td>\n",
       "      <td>1996.867232</td>\n",
       "      <td>92.293346</td>\n",
       "      <td>2001.375706</td>\n",
       "      <td>2.808340e+07</td>\n",
       "    </tr>\n",
       "    <tr>\n",
       "      <th>std</th>\n",
       "      <td>1.166002</td>\n",
       "      <td>8.597705e+04</td>\n",
       "      <td>0.0</td>\n",
       "      <td>11.818582</td>\n",
       "      <td>32.619486</td>\n",
       "      <td>9.236620</td>\n",
       "      <td>7.322589e+07</td>\n",
       "    </tr>\n",
       "    <tr>\n",
       "      <th>min</th>\n",
       "      <td>1.100000</td>\n",
       "      <td>5.000000e+00</td>\n",
       "      <td>0.0</td>\n",
       "      <td>1916.000000</td>\n",
       "      <td>2.000000</td>\n",
       "      <td>1941.000000</td>\n",
       "      <td>1.303869e+02</td>\n",
       "    </tr>\n",
       "    <tr>\n",
       "      <th>25%</th>\n",
       "      <td>5.800000</td>\n",
       "      <td>1.577500e+02</td>\n",
       "      <td>0.0</td>\n",
       "      <td>1992.000000</td>\n",
       "      <td>85.000000</td>\n",
       "      <td>1996.000000</td>\n",
       "      <td>4.155345e+04</td>\n",
       "    </tr>\n",
       "    <tr>\n",
       "      <th>50%</th>\n",
       "      <td>6.500000</td>\n",
       "      <td>1.412000e+03</td>\n",
       "      <td>0.0</td>\n",
       "      <td>2000.000000</td>\n",
       "      <td>95.000000</td>\n",
       "      <td>2003.000000</td>\n",
       "      <td>5.019854e+05</td>\n",
       "    </tr>\n",
       "    <tr>\n",
       "      <th>75%</th>\n",
       "      <td>7.200000</td>\n",
       "      <td>9.424500e+03</td>\n",
       "      <td>0.0</td>\n",
       "      <td>2005.000000</td>\n",
       "      <td>106.000000</td>\n",
       "      <td>2007.000000</td>\n",
       "      <td>2.144866e+07</td>\n",
       "    </tr>\n",
       "    <tr>\n",
       "      <th>max</th>\n",
       "      <td>10.000000</td>\n",
       "      <td>2.332286e+06</td>\n",
       "      <td>0.0</td>\n",
       "      <td>2019.000000</td>\n",
       "      <td>566.000000</td>\n",
       "      <td>2018.000000</td>\n",
       "      <td>8.199476e+08</td>\n",
       "    </tr>\n",
       "  </tbody>\n",
       "</table>\n",
       "</div>"
      ],
      "text/plain": [
       "           ratings       n_votes  is_adult  production_year      runtime  \\\n",
       "count  3540.000000  3.540000e+03    3540.0      3540.000000  3276.000000   \n",
       "mean      6.426582  2.337422e+04       0.0      1996.867232    92.293346   \n",
       "std       1.166002  8.597705e+04       0.0        11.818582    32.619486   \n",
       "min       1.100000  5.000000e+00       0.0      1916.000000     2.000000   \n",
       "25%       5.800000  1.577500e+02       0.0      1992.000000    85.000000   \n",
       "50%       6.500000  1.412000e+03       0.0      2000.000000    95.000000   \n",
       "75%       7.200000  9.424500e+03       0.0      2005.000000   106.000000   \n",
       "max      10.000000  2.332286e+06       0.0      2019.000000   566.000000   \n",
       "\n",
       "       release_year      revenues  \n",
       "count   3540.000000  3.540000e+03  \n",
       "mean    2001.375706  2.808340e+07  \n",
       "std        9.236620  7.322589e+07  \n",
       "min     1941.000000  1.303869e+02  \n",
       "25%     1996.000000  4.155345e+04  \n",
       "50%     2003.000000  5.019854e+05  \n",
       "75%     2007.000000  2.144866e+07  \n",
       "max     2018.000000  8.199476e+08  "
      ]
     },
     "execution_count": 30,
     "metadata": {},
     "output_type": "execute_result"
    }
   ],
   "source": [
    "df.describe()"
   ]
  },
  {
   "cell_type": "markdown",
   "id": "629a62b4",
   "metadata": {},
   "source": [
    "Let's analyze the range of the different numericals features"
   ]
  },
  {
   "cell_type": "code",
   "execution_count": 31,
   "id": "dd3e7aee",
   "metadata": {},
   "outputs": [
    {
     "data": {
      "text/plain": [
       "ratings            8.900000e+00\n",
       "n_votes            2.332281e+06\n",
       "is_adult           0.000000e+00\n",
       "production_year    1.030000e+02\n",
       "runtime            5.640000e+02\n",
       "release_year       7.700000e+01\n",
       "revenues           8.199474e+08\n",
       "dtype: float64"
      ]
     },
     "execution_count": 31,
     "metadata": {},
     "output_type": "execute_result"
    }
   ],
   "source": [
    "(df.select_dtypes(include=[\"int64\", \"float64\"]).max() - df.select_dtypes(include=[\"int64\", \"float64\"]).min()).round(decimals=3)"
   ]
  },
  {
   "cell_type": "markdown",
   "id": "541f486f",
   "metadata": {},
   "source": [
    "Finally we count the number of unique values for the 2 categorical features `genres` and `studio`."
   ]
  },
  {
   "cell_type": "code",
   "execution_count": 32,
   "id": "fccdafa7",
   "metadata": {},
   "outputs": [
    {
     "data": {
      "text/plain": [
       "count      3536\n",
       "unique      351\n",
       "top       Drama\n",
       "freq        313\n",
       "Name: genres, dtype: object"
      ]
     },
     "execution_count": 32,
     "metadata": {},
     "output_type": "execute_result"
    }
   ],
   "source": [
    "df[\"genres\"].describe()"
   ]
  },
  {
   "cell_type": "markdown",
   "id": "435297fb",
   "metadata": {},
   "source": [
    "`studio` feature contains list of maximum 3 most representative genres for each movies so there are many differents list of genres which does not mean there a as much different genres. We should preprocess them before then count how many different genres there are. \n",
    "However, we can expect there shouldn't be too many differents."
   ]
  },
  {
   "cell_type": "code",
   "execution_count": 33,
   "id": "fd7d1fa4",
   "metadata": {},
   "outputs": [
    {
     "data": {
      "text/plain": [
       "count     3540\n",
       "unique     498\n",
       "top         WB\n",
       "freq       184\n",
       "Name: studio, dtype: object"
      ]
     },
     "execution_count": 33,
     "metadata": {},
     "output_type": "execute_result"
    }
   ],
   "source": [
    "df[\"studio\"].describe()"
   ]
  },
  {
   "cell_type": "markdown",
   "id": "fb56137d",
   "metadata": {},
   "source": [
    "We see there are a lof of different studios, therefore, it will result in a lof of features if we One-Hot encode them. As a consequence, we would explose the dimensionnality of the datas and there would be more risk to overfit (curse of dimensionnality). Better to Label encode ?"
   ]
  },
  {
   "cell_type": "markdown",
   "id": "96d53fda",
   "metadata": {},
   "source": [
    "## Preprocessing (part 1)"
   ]
  },
  {
   "cell_type": "markdown",
   "id": "a77880f4",
   "metadata": {},
   "source": [
    "### Remove duplicated observations and preprocessing missing values"
   ]
  },
  {
   "cell_type": "code",
   "execution_count": 34,
   "id": "1938ee62",
   "metadata": {},
   "outputs": [],
   "source": [
    "def preprocess_duplicated_and_missing(df):\n",
    "\t# drop duplicated values\n",
    "\tdf.drop_duplicates(subset=df.columns.difference([\"revenues\"]), keep=\"first\", inplace=True)\n",
    "\n",
    "\t# drop observations with missing genres\n",
    "\tdf.dropna(subset=[\"genres\"], axis=0, inplace=True)\n",
    "\n",
    "\t# impute observations with missing runtime (because > 5% of missing values)\n",
    "\t# replace by the mean (since runtime feature is not too for from a Gaussian)\n",
    "\tdf[\"runtime\"].fillna(df[\"runtime\"].mean(), inplace=True)\n",
    "\n",
    "\tprint(\"[X] Removing duplicated and missing values\")\n",
    "\treturn df"
   ]
  },
  {
   "cell_type": "markdown",
   "id": "c229beff",
   "metadata": {},
   "source": [
    "### Remove (obvious) irrelevant/redundant features"
   ]
  },
  {
   "cell_type": "code",
   "execution_count": 35,
   "id": "c883cfb7",
   "metadata": {},
   "outputs": [],
   "source": [
    "def preprocess_irrelevant_features(df):\n",
    "\t# drop `img_url` and `description` since we have the embeddings\n",
    "\tdf.drop([\"img_url\", \"description\"], axis=1, inplace=True)\n",
    "\n",
    "\t# we do not have movies for mature audience so feature `is_adult` has variance 0\n",
    "\tdf.drop([\"is_adult\"], axis=1, inplace=True)\n",
    "\n",
    "\tprint(\"[X] Removing irrelevant features\")\n",
    "\treturn df"
   ]
  },
  {
   "cell_type": "markdown",
   "id": "fd12bfe2",
   "metadata": {},
   "source": [
    "### One-Hot Encode genres feature"
   ]
  },
  {
   "cell_type": "code",
   "execution_count": 36,
   "id": "8faa7f15",
   "metadata": {},
   "outputs": [],
   "source": [
    "def one_hot_encode_genres_feature(df):\n",
    "\t# separate all genres into one big list of list of genres\n",
    "\tgenres_list = df[\"genres\"].str.split(\",\").tolist()\n",
    "\n",
    "\tunique_genres = []\n",
    "\n",
    "\t# retrieve each genre\n",
    "\tfor sublist in genres_list:\n",
    "\t\tfor genre in sublist:\n",
    "\t\t\tif genre not in unique_genres:\n",
    "\t\t\t\tunique_genres.append(genre)\n",
    "\n",
    "\t# sort\n",
    "\tunique_genres = sorted(unique_genres)\n",
    "\n",
    "\t# one hot encode movies genres\n",
    "\tdf = df.reindex(df.columns.tolist() + unique_genres, axis=1, fill_value=0)\n",
    "\n",
    "\tfor index, row in df.iterrows():\n",
    "\t\tfor genre in row[\"genres\"].split(\",\"):\n",
    "\t\t\tdf.loc[index, genre] = 1\n",
    "\n",
    "\t# drop old genres column\n",
    "\tdf.drop(\"genres\", axis=1, inplace=True)\n",
    "\n",
    "\tprint(\"[X] One-Hot encoding\")\n",
    "\treturn df"
   ]
  },
  {
   "cell_type": "markdown",
   "id": "b1607d24",
   "metadata": {},
   "source": [
    "### Label Encode studio feature"
   ]
  },
  {
   "cell_type": "code",
   "execution_count": 37,
   "id": "bb1fb499",
   "metadata": {},
   "outputs": [],
   "source": [
    "label_encoder_studio = LabelEncoder()\n",
    "\n",
    "def label_encode_studio_feature(df):\n",
    "\tdf[\"studio\"] = label_encoder_studio.fit_transform(df[\"studio\"].to_numpy())\n",
    "\n",
    "\tprint(\"[X] Label encoding\")\n",
    "\treturn df"
   ]
  },
  {
   "cell_type": "markdown",
   "id": "cd8258d2",
   "metadata": {},
   "source": [
    "### Minor fixes"
   ]
  },
  {
   "cell_type": "code",
   "execution_count": 38,
   "id": "97ece9d5",
   "metadata": {},
   "outputs": [],
   "source": [
    "def other_fixes(df):\n",
    "\t# it does not make sense to have `release_year` and `n_votes` features as type float\n",
    "\t# let's convert them into int\n",
    "\tdf[\"release_year\"] = df[\"release_year\"].astype(int)\n",
    "\t#df[\"n_votes\"] = df[\"n_votes\"].astype(int)\n",
    "\n",
    "\t# in notebook, I dropped this feature at the end of first part of preprocessing\n",
    "\t# but I'm not sure why\n",
    "\tdf.drop(\"title\", axis=1, inplace=True)\n",
    "\n",
    "\tprint(\"[X] Minor fixes\")\n",
    "\treturn df"
   ]
  },
  {
   "cell_type": "code",
   "execution_count": 39,
   "id": "2711b5b4",
   "metadata": {},
   "outputs": [
    {
     "name": "stdout",
     "output_type": "stream",
     "text": [
      "PREPROCESSING modeling dataset 1/2...\n",
      "--------------------------\n",
      "[X] Removing duplicated and missing values\n",
      "[X] Removing irrelevant features\n",
      "[X] One-Hot encoding\n",
      "[X] Label encoding\n",
      "[X] Minor fixes\n",
      "PREPROCESSING prediction dataset 1/2...\n",
      "--------------------------\n",
      "[X] Removing duplicated and missing values\n",
      "[X] Removing irrelevant features\n",
      "[X] One-Hot encoding\n",
      "[X] Label encoding\n",
      "[X] Minor fixes\n"
     ]
    }
   ],
   "source": [
    "def preprocess(df, dataset_name):\n",
    "\tprint(f\"PREPROCESSING {dataset_name} 1/2...\")\n",
    "\tprint(\"--------------------------\")\n",
    "\tdf = preprocess_duplicated_and_missing(df)\n",
    "\tdf = preprocess_irrelevant_features(df)\n",
    "\n",
    "\tdf = one_hot_encode_genres_feature(df)\n",
    "\tdf = label_encode_studio_feature(df)\n",
    "\tdf = other_fixes(df)\n",
    "\treturn df\n",
    "\n",
    "df = preprocess(df, \"modeling dataset\")\n",
    "X2 = preprocess(X2, \"prediction dataset\")"
   ]
  },
  {
   "cell_type": "markdown",
   "id": "1bf90033",
   "metadata": {},
   "source": [
    "## Preprocessing (part 2)"
   ]
  },
  {
   "cell_type": "markdown",
   "id": "dcb6afb4",
   "metadata": {},
   "source": [
    "### Handle outliers"
   ]
  },
  {
   "cell_type": "code",
   "execution_count": 40,
   "id": "19998ec7",
   "metadata": {},
   "outputs": [],
   "source": [
    "def remove_outliers(X_train):\n",
    "\tpass"
   ]
  },
  {
   "cell_type": "markdown",
   "id": "3c3b05e5",
   "metadata": {},
   "source": [
    "### Standardizing"
   ]
  },
  {
   "cell_type": "markdown",
   "id": "3a08c896",
   "metadata": {},
   "source": [
    "Standardizing data with `Standadardizer` or `Normalizer` is not a good idea with skewed data. \n",
    "Since we cannot remove outliers of `n_votes` feature, we use `RobustScaler` that works better with skewed data."
   ]
  },
  {
   "cell_type": "code",
   "execution_count": 41,
   "id": "4889ce6a",
   "metadata": {},
   "outputs": [],
   "source": [
    "robust_scaler = RobustScaler()\n",
    "\n",
    "def standardize(X_train, X_test):\n",
    "\t# fit the scaler on training dataset\n",
    "\tX_train_scaled = robust_scaler.fit_transform(X_train)\n",
    "\n",
    "\t# apply the scaler on testing dataset (and so avoid introducing bias)\n",
    "\tX_test_scaled = robust_scaler.transform(X_test)\n",
    "\n",
    "\t# should do the same on X2 \n",
    "\n",
    "\tX_train = pd.DataFrame(X_train_scaled, columns=X_train.columns, index=X_train.index)\n",
    "\tX_test = pd.DataFrame(X_test_scaled, columns=X_test.columns, index=X_test.index)\n",
    "\n",
    "\treturn X_train, X_test"
   ]
  },
  {
   "cell_type": "markdown",
   "id": "b1e720bb",
   "metadata": {},
   "source": [
    "### Extracting features from embeddings"
   ]
  },
  {
   "cell_type": "code",
   "execution_count": 46,
   "id": "ea4a3a0e",
   "metadata": {},
   "outputs": [],
   "source": [
    "def extract_embeddings_features(embeddings):\n",
    "\t\"\"\"\n",
    "\tArgs:\n",
    "\t\tembeddings (pd.Series): Pandas Series of string representation of feature vectors.\n",
    "\tReturn:\n",
    "\t\t(np.ndarray): feature matrix of dimension (n_observations, n_features)\n",
    "\t\"\"\"\n",
    "\tn = embeddings.shape[0]\n",
    "\tembeddings_matrix = []\n",
    "\n",
    "\tfor i in range(n):\n",
    "\t\t# embeddings are encoded as string representation of vector\n",
    "\t\t# convert these into list\n",
    "\t\t# Note: should'nt set ast.litteral_eval(...) to a variable, then append to the list\n",
    "\t\t# since it would consume a huge quantity of ram.\n",
    "\t\t# better directly appending\n",
    "\t\tembeddings_matrix.append(ast.literal_eval(embeddings.iloc[i]))\n",
    "\n",
    "\treturn embeddings_matrix"
   ]
  },
  {
   "cell_type": "markdown",
   "id": "d12c8214",
   "metadata": {},
   "source": [
    "### Running PCA on embeddings"
   ]
  },
  {
   "cell_type": "markdown",
   "id": "5c096fd9",
   "metadata": {},
   "source": [
    "Embeddings are feature vectors which means each number in the vector represent a feature. \n",
    "For example, it could be `feature_vector = [R, G, B]` where `R`, `G` and `B` are integers value and represent red, green, blue quantity of an image. \n",
    "We extract these features and put them into columns. We should note it's gonna give us a very high dimension dataset."
   ]
  },
  {
   "cell_type": "code",
   "execution_count": 48,
   "id": "0870a6ef",
   "metadata": {},
   "outputs": [],
   "source": [
    "\n",
    "def pca_on_embeddings(train_embeddings_matrix, test_embeddings_matrix, train_index, test_index, prefix, total_variance_explained = 0.95):\n",
    "\t\tscaler = StandardScaler()\n",
    "\n",
    "\t\tn_features_before_pca = len(train_embeddings_matrix[0])\n",
    "\n",
    "\t\t# standardize data\n",
    "\t\ttrain_embeddings_matrix = scaler.fit_transform(train_embeddings_matrix)\n",
    "\t\ttest_embeddings_matrix = scaler.transform(test_embeddings_matrix)\n",
    "\n",
    "\t\tpca = PCA(n_components=total_variance_explained)\n",
    "\n",
    "\t\t# run pca\n",
    "\t\ttrain_embeddings_matrix = pca.fit_transform(train_embeddings_matrix)\n",
    "\t\ttest_embeddings_matrix = pca.transform(test_embeddings_matrix)\n",
    "\n",
    "\t\tprint(f\"successfully reduced from {n_features_before_pca} features to {len(train_embeddings_matrix[0])} features keeping {total_variance_explained * 100}% of variance explained\")\n",
    "\n",
    "\t\ttrain_embeddings_df = pd.DataFrame(train_embeddings_matrix, index=train_index).add_prefix(prefix)\n",
    "\t\ttest_embeddings_df = pd.DataFrame(test_embeddings_matrix, index=test_index).add_prefix(prefix)\n",
    "\n",
    "\t\treturn train_embeddings_df, test_embeddings_df"
   ]
  },
  {
   "cell_type": "code",
   "execution_count": 55,
   "id": "8fc1ac03",
   "metadata": {},
   "outputs": [
    {
     "name": "stdout",
     "output_type": "stream",
     "text": [
      "PREPROCESSING 2/2...\n",
      "--------------------------\n",
      "training dataset dimension: X_train: (2484, 34), y_train: (2484,)\n",
      "testing dataset dimension: X_test: (621, 34), y_test: (621,)\n"
     ]
    }
   ],
   "source": [
    "def special_preprocess(X, Y):\n",
    "\tprint(\"PREPROCESSING 2/2...\")\n",
    "\tprint(\"--------------------------\")\n",
    "\n",
    "\tX_train, X_test, y_train, y_test = train_test_split(X, Y, train_size = 0.8, test_size = 0.2, shuffle = True, random_state = 0)\n",
    "\n",
    "\tprint(f\"training dataset dimension: X_train: {X_train.shape}, y_train: {y_train.shape}\")\n",
    "\tprint(f\"testing dataset dimension: X_test: {X_test.shape}, y_test: {y_test.shape}\")\n",
    "\n",
    "\t# remove outliers only on train set\n",
    "\t# as test set should be representative of the reality\n",
    "\tremove_outliers(X_train)\n",
    "\n",
    "\t# extract feature vectors\n",
    "\tX_train_img_embeddings = extract_embeddings_features(X_train[\"img_embeddings\"])\n",
    "\tX_test_img_embeddings = extract_embeddings_features(X_test[\"img_embeddings\"])\n",
    "\n",
    "\tX_train_text_embeddings = extract_embeddings_features(X_train[\"text_embeddings\"])\n",
    "\tX_test_text_embeddings = extract_embeddings_features(X_test[\"text_embeddings\"])\n",
    "\n",
    "\tX_train_img_df, X_test_img_df = pca_on_embeddings(X_train_img_embeddings, X_test_img_embeddings, X_train.index, X_test.index, prefix=\"img_feature\", total_variance_explained=0.8)\n",
    "\n",
    "\tX_train_text_df, X_test_text_df = pca_on_embeddings(X_train_text_embeddings, X_test_text_embeddings, X_train.index, X_test.index, prefix=\"text_feature\", total_variance_explained=0.8)\n",
    "\n",
    "\t# drop unnecessary features\n",
    "\tX_train.drop([\"img_embeddings\", \"text_embeddings\"], axis=1, inplace=True)\n",
    "\tX_test.drop([\"img_embeddings\", \"text_embeddings\"], axis=1, inplace=True)\n",
    "\n",
    "\t# standardize other features\n",
    "\tX_train, X_test = standardize(X_train, X_test)\n",
    "\n",
    "\tX_train = pd.concat([X_train, X_train_img_df, X_train_text_df], axis=1)\n",
    "\tX_test = pd.concat([X_test, X_test_img_df, X_test_text_df], axis=1)\n",
    "\n",
    "\t# should also extract features for X2\n",
    "\n",
    "\treturn X_train, X_test\n",
    "\n",
    "X = df.drop(\"revenues\", axis=1)\n",
    "Y = df[\"revenues\"]\n",
    "\n",
    "special_preprocess(X, Y)"
   ]
  },
  {
   "cell_type": "markdown",
   "id": "ec03ebfc-b137-4e30-a1a8-4621093f9a59",
   "metadata": {},
   "source": [
    "## Model\n",
    "\n",
    "We're gonna build regression models :\n",
    "- Linear regression\n",
    "- K-Nearest Neighbors \n",
    "- MLP\n",
    "- One other non-linear method (can be one not seen during the course)\n",
    "\n",
    "We're gonna do **feature selection** and **model selection**.\n",
    "/!\\ model selection can require a lot of computation time /!\\\n",
    "\n",
    "We're gonna validate the model."
   ]
  },
  {
   "cell_type": "markdown",
   "id": "ec5b743d",
   "metadata": {},
   "source": [
    "### Feature selection : Filter Method"
   ]
  },
  {
   "cell_type": "markdown",
   "id": "c7788e12",
   "metadata": {},
   "source": [
    "We want to remove redundant or irrelevant features to improve computational efficiency and reduce the risk of overfitting.\n",
    "As I understand, there's multiple ways to selection features via filter method. As a reminder, filter method is independent of any machine learning model but does not take into account feature redundancy. \n",
    "\n",
    "Some of them are:\n",
    "- `Chi-Square` and `ANOVA`: for categorical variables and categorical targets    \n",
    "- `Correlation matrix`: for continuous variables, continuous target and linear model    \n",
    "- `Mutual information`: for continuous variables, continuous target and non-linear model     \n",
    "\n",
    "Since we're dealing with continuous target and we will train linear and non-linear models, we use the two last one."
   ]
  },
  {
   "cell_type": "code",
   "execution_count": null,
   "id": "43c714cc",
   "metadata": {},
   "outputs": [],
   "source": [
    "X1.dtypes"
   ]
  },
  {
   "cell_type": "markdown",
   "id": "6d08ac5b",
   "metadata": {},
   "source": [
    "#### Correlation matrix (linear models)"
   ]
  },
  {
   "cell_type": "code",
   "execution_count": null,
   "id": "bb73edd3",
   "metadata": {},
   "outputs": [
    {
     "name": "stdout",
     "output_type": "stream",
     "text": [
      "ratings            0.105347\n",
      "n_votes            0.468389\n",
      "production_year   -0.073992\n",
      "runtime            0.094425\n",
      "release_year      -0.164917\n",
      "                     ...   \n",
      "Short              0.098263\n",
      "Sport              0.032736\n",
      "Thriller           0.005551\n",
      "War               -0.010494\n",
      "Western           -0.005751\n",
      "Length: 2848, dtype: float64\n"
     ]
    },
    {
     "ename": "IndexError",
     "evalue": "Inconsistent shape between the condition and the input (got (2848, 1) and (2848,))",
     "output_type": "error",
     "traceback": [
      "\u001b[0;31m---------------------------------------------------------------------------\u001b[0m",
      "\u001b[0;31mIndexError\u001b[0m                                Traceback (most recent call last)",
      "\u001b[0;32m/var/folders/zn/_2h7w2j547357vpm3_5pxrsr0000gn/T/ipykernel_9248/2099942534.py\u001b[0m in \u001b[0;36m<module>\u001b[0;34m\u001b[0m\n\u001b[1;32m      4\u001b[0m \u001b[0;34m\u001b[0m\u001b[0m\n\u001b[1;32m      5\u001b[0m \u001b[0mprint\u001b[0m\u001b[0;34m(\u001b[0m\u001b[0mcorr_with_target\u001b[0m\u001b[0;34m)\u001b[0m\u001b[0;34m\u001b[0m\u001b[0;34m\u001b[0m\u001b[0m\n\u001b[0;32m----> 6\u001b[0;31m \u001b[0msns\u001b[0m\u001b[0;34m.\u001b[0m\u001b[0mheatmap\u001b[0m\u001b[0;34m(\u001b[0m\u001b[0mcorr_with_target\u001b[0m\u001b[0;34m,\u001b[0m \u001b[0mannot\u001b[0m\u001b[0;34m=\u001b[0m\u001b[0;32mTrue\u001b[0m\u001b[0;34m)\u001b[0m\u001b[0;34m\u001b[0m\u001b[0;34m\u001b[0m\u001b[0m\n\u001b[0m",
      "\u001b[0;32m~/opt/anaconda3/lib/python3.9/site-packages/seaborn/_decorators.py\u001b[0m in \u001b[0;36minner_f\u001b[0;34m(*args, **kwargs)\u001b[0m\n\u001b[1;32m     44\u001b[0m             )\n\u001b[1;32m     45\u001b[0m         \u001b[0mkwargs\u001b[0m\u001b[0;34m.\u001b[0m\u001b[0mupdate\u001b[0m\u001b[0;34m(\u001b[0m\u001b[0;34m{\u001b[0m\u001b[0mk\u001b[0m\u001b[0;34m:\u001b[0m \u001b[0marg\u001b[0m \u001b[0;32mfor\u001b[0m \u001b[0mk\u001b[0m\u001b[0;34m,\u001b[0m \u001b[0marg\u001b[0m \u001b[0;32min\u001b[0m \u001b[0mzip\u001b[0m\u001b[0;34m(\u001b[0m\u001b[0msig\u001b[0m\u001b[0;34m.\u001b[0m\u001b[0mparameters\u001b[0m\u001b[0;34m,\u001b[0m \u001b[0margs\u001b[0m\u001b[0;34m)\u001b[0m\u001b[0;34m}\u001b[0m\u001b[0;34m)\u001b[0m\u001b[0;34m\u001b[0m\u001b[0;34m\u001b[0m\u001b[0m\n\u001b[0;32m---> 46\u001b[0;31m         \u001b[0;32mreturn\u001b[0m \u001b[0mf\u001b[0m\u001b[0;34m(\u001b[0m\u001b[0;34m**\u001b[0m\u001b[0mkwargs\u001b[0m\u001b[0;34m)\u001b[0m\u001b[0;34m\u001b[0m\u001b[0;34m\u001b[0m\u001b[0m\n\u001b[0m\u001b[1;32m     47\u001b[0m     \u001b[0;32mreturn\u001b[0m \u001b[0minner_f\u001b[0m\u001b[0;34m\u001b[0m\u001b[0;34m\u001b[0m\u001b[0m\n\u001b[1;32m     48\u001b[0m \u001b[0;34m\u001b[0m\u001b[0m\n",
      "\u001b[0;32m~/opt/anaconda3/lib/python3.9/site-packages/seaborn/matrix.py\u001b[0m in \u001b[0;36mheatmap\u001b[0;34m(data, vmin, vmax, cmap, center, robust, annot, fmt, annot_kws, linewidths, linecolor, cbar, cbar_kws, cbar_ax, square, xticklabels, yticklabels, mask, ax, **kwargs)\u001b[0m\n\u001b[1;32m    538\u001b[0m     \"\"\"\n\u001b[1;32m    539\u001b[0m     \u001b[0;31m# Initialize the plotter object\u001b[0m\u001b[0;34m\u001b[0m\u001b[0;34m\u001b[0m\u001b[0m\n\u001b[0;32m--> 540\u001b[0;31m     plotter = _HeatMapper(data, vmin, vmax, cmap, center, robust, annot, fmt,\n\u001b[0m\u001b[1;32m    541\u001b[0m                           \u001b[0mannot_kws\u001b[0m\u001b[0;34m,\u001b[0m \u001b[0mcbar\u001b[0m\u001b[0;34m,\u001b[0m \u001b[0mcbar_kws\u001b[0m\u001b[0;34m,\u001b[0m \u001b[0mxticklabels\u001b[0m\u001b[0;34m,\u001b[0m\u001b[0;34m\u001b[0m\u001b[0;34m\u001b[0m\u001b[0m\n\u001b[1;32m    542\u001b[0m                           yticklabels, mask)\n",
      "\u001b[0;32m~/opt/anaconda3/lib/python3.9/site-packages/seaborn/matrix.py\u001b[0m in \u001b[0;36m__init__\u001b[0;34m(self, data, vmin, vmax, cmap, center, robust, annot, fmt, annot_kws, cbar, cbar_kws, xticklabels, yticklabels, mask)\u001b[0m\n\u001b[1;32m    109\u001b[0m         \u001b[0mmask\u001b[0m \u001b[0;34m=\u001b[0m \u001b[0m_matrix_mask\u001b[0m\u001b[0;34m(\u001b[0m\u001b[0mdata\u001b[0m\u001b[0;34m,\u001b[0m \u001b[0mmask\u001b[0m\u001b[0;34m)\u001b[0m\u001b[0;34m\u001b[0m\u001b[0;34m\u001b[0m\u001b[0m\n\u001b[1;32m    110\u001b[0m \u001b[0;34m\u001b[0m\u001b[0m\n\u001b[0;32m--> 111\u001b[0;31m         \u001b[0mplot_data\u001b[0m \u001b[0;34m=\u001b[0m \u001b[0mnp\u001b[0m\u001b[0;34m.\u001b[0m\u001b[0mma\u001b[0m\u001b[0;34m.\u001b[0m\u001b[0mmasked_where\u001b[0m\u001b[0;34m(\u001b[0m\u001b[0mnp\u001b[0m\u001b[0;34m.\u001b[0m\u001b[0masarray\u001b[0m\u001b[0;34m(\u001b[0m\u001b[0mmask\u001b[0m\u001b[0;34m)\u001b[0m\u001b[0;34m,\u001b[0m \u001b[0mplot_data\u001b[0m\u001b[0;34m)\u001b[0m\u001b[0;34m\u001b[0m\u001b[0;34m\u001b[0m\u001b[0m\n\u001b[0m\u001b[1;32m    112\u001b[0m \u001b[0;34m\u001b[0m\u001b[0m\n\u001b[1;32m    113\u001b[0m         \u001b[0;31m# Get good names for the rows and columns\u001b[0m\u001b[0;34m\u001b[0m\u001b[0;34m\u001b[0m\u001b[0m\n",
      "\u001b[0;32m~/opt/anaconda3/lib/python3.9/site-packages/numpy/ma/core.py\u001b[0m in \u001b[0;36mmasked_where\u001b[0;34m(condition, a, copy)\u001b[0m\n\u001b[1;32m   1927\u001b[0m     \u001b[0;34m(\u001b[0m\u001b[0mcshape\u001b[0m\u001b[0;34m,\u001b[0m \u001b[0mashape\u001b[0m\u001b[0;34m)\u001b[0m \u001b[0;34m=\u001b[0m \u001b[0;34m(\u001b[0m\u001b[0mcond\u001b[0m\u001b[0;34m.\u001b[0m\u001b[0mshape\u001b[0m\u001b[0;34m,\u001b[0m \u001b[0ma\u001b[0m\u001b[0;34m.\u001b[0m\u001b[0mshape\u001b[0m\u001b[0;34m)\u001b[0m\u001b[0;34m\u001b[0m\u001b[0;34m\u001b[0m\u001b[0m\n\u001b[1;32m   1928\u001b[0m     \u001b[0;32mif\u001b[0m \u001b[0mcshape\u001b[0m \u001b[0;32mand\u001b[0m \u001b[0mcshape\u001b[0m \u001b[0;34m!=\u001b[0m \u001b[0mashape\u001b[0m\u001b[0;34m:\u001b[0m\u001b[0;34m\u001b[0m\u001b[0;34m\u001b[0m\u001b[0m\n\u001b[0;32m-> 1929\u001b[0;31m         raise IndexError(\"Inconsistent shape between the condition and the input\"\n\u001b[0m\u001b[1;32m   1930\u001b[0m                          \" (got %s and %s)\" % (cshape, ashape))\n\u001b[1;32m   1931\u001b[0m     \u001b[0;32mif\u001b[0m \u001b[0mhasattr\u001b[0m\u001b[0;34m(\u001b[0m\u001b[0ma\u001b[0m\u001b[0;34m,\u001b[0m \u001b[0;34m'_mask'\u001b[0m\u001b[0;34m)\u001b[0m\u001b[0;34m:\u001b[0m\u001b[0;34m\u001b[0m\u001b[0;34m\u001b[0m\u001b[0m\n",
      "\u001b[0;31mIndexError\u001b[0m: Inconsistent shape between the condition and the input (got (2848, 1) and (2848,))"
     ]
    },
    {
     "data": {
      "image/png": "[encoded data removed]",
      "text/plain": [
       "<Figure size 1200x1000 with 1 Axes>"
      ]
     },
     "metadata": {},
     "output_type": "display_data"
    }
   ],
   "source": [
    "fig = plt.subplots(figsize = (12,10))\n",
    "\n",
    "corr_with_target = X_train.corrwith(y_train)\n",
    "\n",
    "print(corr_with_target)\n",
    "sns.heatmap(corr_with_target, annot=True)"
   ]
  },
  {
   "cell_type": "code",
   "execution_count": null,
   "id": "9d34005b",
   "metadata": {},
   "outputs": [
    {
     "name": "stdout",
     "output_type": "stream",
     "text": [
      "['ratings', 'n_votes', 'production_year', 'runtime', 'release_year', 'studio', 'img_embeddings1', 'img_embeddings2', 'img_embeddings3']\n"
     ]
    },
    {
     "data": {
      "text/plain": [
       "(       ratings   n_votes  production_year   runtime  release_year  studio  \\\n",
       " 1860  0.857143 -0.152636         0.142857 -3.631579      0.833333     371   \n",
       " 2459 -0.642857 -0.118577        -0.357143 -0.315789      0.583333     169   \n",
       " 2508 -0.857143 -0.005466        -0.642857 -0.210526     -0.916667     470   \n",
       " 1288  0.500000  6.967118        -1.214286 -0.368421     -1.666667     461   \n",
       " 330   0.214286  0.332436        -0.357143 -0.105263     -0.666667     330   \n",
       " ...        ...       ...              ...       ...           ...     ...   \n",
       " 783  -1.214286  0.406358         0.071429  0.105263     -0.166667     259   \n",
       " 858   1.000000 -0.149777         0.357143  0.473684      0.166667     233   \n",
       " 1759 -0.214286  0.424523         0.357143  3.368421      0.166667     493   \n",
       " 2908 -2.142857 -0.102599         0.214286  0.842105      0.000000     102   \n",
       " 3057  0.642857 -0.001682        -1.285714 -0.105263     -1.666667     274   \n",
       " \n",
       "       img_embeddings1  img_embeddings2  img_embeddings3  \n",
       " 1860        -0.340692         0.128114        -0.666191  \n",
       " 2459         2.500310         0.344012         0.000000  \n",
       " 2508         2.535012         0.029742         0.416456  \n",
       " 1288        -0.461824         0.258290        -0.479824  \n",
       " 330          0.751171         1.177696        -0.101798  \n",
       " ...               ...              ...              ...  \n",
       " 783          1.157733        -0.712158         1.061612  \n",
       " 858         -0.384410         0.401884        -0.068922  \n",
       " 1759         0.301276         0.186521         0.446742  \n",
       " 2908        -0.463535        -0.580840        -0.157246  \n",
       " 3057         0.215922         0.094847         0.102708  \n",
       " \n",
       " [2484 rows x 9 columns],\n",
       "        ratings    n_votes  production_year   runtime  release_year  studio  \\\n",
       " 2842  0.071429   0.292406         0.571429  1.315789      0.500000     346   \n",
       " 255   0.142857   0.190312        -1.142857  0.736842     -1.583333     349   \n",
       " 1757 -1.285714   3.956606         0.357143 -0.578947      0.166667     419   \n",
       " 813   0.000000   0.177950         0.428571 -0.105263      0.333333     211   \n",
       " 583   0.071429  -0.020604         0.071429  0.315789     -0.166667     151   \n",
       " ...        ...        ...              ...       ...           ...     ...   \n",
       " 2385 -0.357143   0.376756         0.571429 -0.210526      0.500000     289   \n",
       " 2670  0.642857   1.393407         0.500000 -0.052632      0.416667     160   \n",
       " 14   -0.071429   1.262047         0.071429 -0.263158     -0.166667      71   \n",
       " 3145 -1.000000   0.012110        -1.428571  0.315789     -1.916667     474   \n",
       " 3439  0.285714  22.569759         0.571429  0.210526      0.416667     419   \n",
       " \n",
       "       img_embeddings1  img_embeddings2  img_embeddings3  \n",
       " 2842        -0.204489         0.816692         1.668801  \n",
       " 255         -0.532233        -0.439872        -0.708055  \n",
       " 1757         0.883661        -0.106843         0.431052  \n",
       " 813          0.750113         0.884407         2.034055  \n",
       " 583          0.035696         0.043366         1.851998  \n",
       " ...               ...              ...              ...  \n",
       " 2385        -0.385057        -0.651932         0.132905  \n",
       " 2670        -0.497792         0.174177         0.126832  \n",
       " 14           0.211829         0.856668        -0.530110  \n",
       " 3145         1.703109        -0.132213        -0.422368  \n",
       " 3439        -0.216726         0.554535         0.860238  \n",
       " \n",
       " [621 rows x 9 columns])"
      ]
     },
     "execution_count": 203,
     "metadata": {},
     "output_type": "execute_result"
    }
   ],
   "source": [
    "def select_features_correlation(X_train, y_train, X_test, k_features):\n",
    "    # select k best features according to correlation matrix\n",
    "    corr_with_target = X_train.corrwith(y_train)\n",
    "\n",
    "    k_best = corr_with_target[0:k_features-1]\n",
    "    k_best = [feature_name for feature_name, correlation_with_target in k_best.items() if feature_name != \"revenues\"]\n",
    "    print(k_best)\n",
    "    \n",
    "    X_train_filtered = X_train[k_best]\n",
    "    X_test_filtered = X_test[k_best]\n",
    "    \n",
    "    return X_train_filtered, X_test_filtered\n",
    "\n",
    "select_features_correlation(X_train, y_train, X_test, 10)"
   ]
  },
  {
   "cell_type": "markdown",
   "id": "4f232bd6",
   "metadata": {},
   "source": [
    "#### Mutual information (non-linear models)"
   ]
  },
  {
   "cell_type": "code",
   "execution_count": null,
   "id": "30f84cb3",
   "metadata": {},
   "outputs": [
    {
     "name": "stdout",
     "output_type": "stream",
     "text": [
      "Index(['n_votes', 'runtime', 'release_year', 'studio', 'img_embeddings1523',\n",
      "       'img_embeddings1642', 'text_embeddings122', 'text_embeddings239',\n",
      "       'text_embeddings305', 'text_embeddings608'],\n",
      "      dtype='object')\n"
     ]
    },
    {
     "data": {
      "text/plain": [
       "(       n_votes   runtime  release_year  studio  img_embeddings1523  \\\n",
       " 1860 -0.152636 -3.631579      0.833333     371            0.153401   \n",
       " 2459 -0.118577 -0.315789      0.583333     169            0.860543   \n",
       " 2508 -0.005466 -0.210526     -0.916667     470            0.093287   \n",
       " 1288  6.967118 -0.368421     -1.666667     461            1.167165   \n",
       " 330   0.332436 -0.105263     -0.666667     330           -0.610254   \n",
       " ...        ...       ...           ...     ...                 ...   \n",
       " 783   0.406358  0.105263     -0.166667     259            1.197402   \n",
       " 858  -0.149777  0.473684      0.166667     233           -0.488953   \n",
       " 1759  0.424523  3.368421      0.166667     493           -0.533915   \n",
       " 2908 -0.102599  0.842105      0.000000     102           -0.091429   \n",
       " 3057 -0.001682 -0.105263     -1.666667     274           -0.294378   \n",
       " \n",
       "       img_embeddings1642  text_embeddings122  text_embeddings239  \\\n",
       " 1860           -0.273817           -0.323497            0.319073   \n",
       " 2459           -0.133661            0.581213           -0.379853   \n",
       " 2508            1.373353           -0.280191            0.132749   \n",
       " 1288            2.272436           -1.632312            0.433430   \n",
       " 330             0.897011           -1.925273            1.086004   \n",
       " ...                  ...                 ...                 ...   \n",
       " 783             0.020898           -0.370513            0.020141   \n",
       " 858            -0.416014            0.298772           -0.390622   \n",
       " 1759           -0.528980           -3.210352            1.724286   \n",
       " 2908            0.081038           -4.962933            2.308868   \n",
       " 3057           -0.725430            0.754427           -0.422358   \n",
       " \n",
       "       text_embeddings305  text_embeddings608  \n",
       " 1860           -1.151497            0.306852  \n",
       " 2459           -0.628518            0.578610  \n",
       " 2508           -0.069959            0.213136  \n",
       " 1288            0.508888           -0.221430  \n",
       " 330             0.968103           -0.779002  \n",
       " ...                  ...                 ...  \n",
       " 783            -0.115527           -0.517780  \n",
       " 858            -0.538978            0.905310  \n",
       " 1759            1.189166           -0.519876  \n",
       " 2908            1.561695           -0.713475  \n",
       " 3057           -0.887886            0.663581  \n",
       " \n",
       " [2484 rows x 10 columns],\n",
       "         n_votes   runtime  release_year  studio  img_embeddings1523  \\\n",
       " 2842   0.292406  1.315789      0.500000     346           -0.755442   \n",
       " 255    0.190312  0.736842     -1.583333     349           -0.738642   \n",
       " 1757   3.956606 -0.578947      0.166667     419            2.871105   \n",
       " 813    0.177950 -0.105263      0.333333     211           -0.579523   \n",
       " 583   -0.020604  0.315789     -0.166667     151            0.664478   \n",
       " ...         ...       ...           ...     ...                 ...   \n",
       " 2385   0.376756 -0.210526      0.500000     289            0.617121   \n",
       " 2670   1.393407 -0.052632      0.416667     160            0.057433   \n",
       " 14     1.262047 -0.263158     -0.166667      71           -0.530587   \n",
       " 3145   0.012110  0.315789     -1.916667     474            0.531866   \n",
       " 3439  22.569759  0.210526      0.416667     419           -0.432658   \n",
       " \n",
       "       img_embeddings1642  text_embeddings122  text_embeddings239  \\\n",
       " 2842           -0.530594            0.383094           -0.264452   \n",
       " 255            -0.040787            0.719643           -0.339193   \n",
       " 1757            0.387261           -0.052455            0.159089   \n",
       " 813             0.526685            0.730944           -0.659254   \n",
       " 583             1.012458            0.710090           -0.731877   \n",
       " ...                  ...                 ...                 ...   \n",
       " 2385            1.178115           -0.548479            0.362428   \n",
       " 2670           -0.072763           -0.251428           -0.009337   \n",
       " 14             -0.562526            0.243126           -0.249958   \n",
       " 3145            0.163031            0.639915           -0.582651   \n",
       " 3439            0.059521           -0.142799            0.403016   \n",
       " \n",
       "       text_embeddings305  text_embeddings608  \n",
       " 2842           -0.308594           -0.013859  \n",
       " 255            -0.490127            0.008447  \n",
       " 1757            0.059021            0.029472  \n",
       " 813            -1.863843            1.406079  \n",
       " 583            -1.626972            1.448987  \n",
       " ...                  ...                 ...  \n",
       " 2385            1.008240           -1.186397  \n",
       " 2670            0.249358           -0.270042  \n",
       " 14              0.225324            0.019841  \n",
       " 3145           -0.767213            0.738891  \n",
       " 3439            0.272052           -0.400969  \n",
       " \n",
       " [621 rows x 10 columns])"
      ]
     },
     "execution_count": 192,
     "metadata": {},
     "output_type": "execute_result"
    }
   ],
   "source": [
    "def select_features_MI(X_train, y_train, X_test, k_features):\n",
    "    # select k best features according to MI\n",
    "    k_best = SelectKBest(mutual_info_regression, k=k_features)\n",
    "    k_best.fit(X_train, y_train)\n",
    "    print(X_train.columns[k_best.get_support()])\n",
    "    \n",
    "    X_train_filtered = X_train[X_train.columns[k_best.get_support()]]\n",
    "    X_test_filtered = X_test[X_train.columns[k_best.get_support()]]\n",
    "    \n",
    "    return X_train_filtered, X_test_filtered\n",
    "\n",
    "select_features_MI(X_train, y_train, X_test, 10)"
   ]
  },
  {
   "cell_type": "markdown",
   "id": "a453dee2",
   "metadata": {},
   "source": [
    "### Feature selection: Wrapper Method"
   ]
  },
  {
   "cell_type": "code",
   "execution_count": null,
   "id": "ba4fd343",
   "metadata": {},
   "outputs": [],
   "source": [
    "from sklearn.ensemble import RandomForestRegressor\n",
    "from sklearn.feature_selection import SelectFromModel\n",
    "\n",
    "forest = RandomForestRegressor(n_estimators=500, random_state=0)\n",
    "forest.fit(X1_train, Y1_train)\n",
    "\n",
    "sfm = SelectFromModel(forest, threshold=0.1, prefit=True)\n",
    "\n",
    "X1_selected = sfm.transform(X1_train)\n",
    "\n",
    "feat_labels = X1_train.columns\n",
    "importances = forest.feature_importances_\n",
    "\n",
    "for i in range(X1_selected.shape[1]):\n",
    "    print(\"%2d) %-*s %f\" % (i + 1, feat_labels[indices[i]], importances[indices[i]]))"
   ]
  },
  {
   "cell_type": "markdown",
   "id": "29c1c003",
   "metadata": {},
   "source": [
    "### Model selection"
   ]
  },
  {
   "cell_type": "code",
   "execution_count": null,
   "id": "352f07c5",
   "metadata": {},
   "outputs": [
    {
     "name": "stdout",
     "output_type": "stream",
     "text": [
      "['ratings', 'n_votes', 'production_year', 'runtime', 'release_year', 'studio', 'img_embeddings1', 'img_embeddings2', 'img_embeddings3']\n"
     ]
    },
    {
     "data": {
      "text/plain": [
       "7.2879096654372"
      ]
     },
     "execution_count": 204,
     "metadata": {},
     "output_type": "execute_result"
    }
   ],
   "source": [
    "from sklearn.linear_model import LinearRegression\n",
    "\n",
    "X_train_filtered, X_test_filtered = select_features_correlation(X_train, y_train, X_test, k_features=10)\n",
    "\n",
    "lr = LinearRegression()\n",
    "\n",
    "# train the model on training set\n",
    "lr.fit(X_train_filtered, y_train)\n",
    "\n",
    "# predict values with testing set\n",
    "y_pred = lr.predict(X_test_filtered)\n",
    "\n",
    "# compare predicted values with the testing target using mse\n",
    "mse = mean_squared_error(y_test, y_pred)\n",
    "\n",
    "mse"
   ]
  },
  {
   "cell_type": "code",
   "execution_count": null,
   "id": "4e8ac8cd",
   "metadata": {},
   "outputs": [],
   "source": [
    "from sklearn.neighbors import KNeighborsRegressor\n",
    "\n",
    "knn = KNeighborsRegressor()\n",
    "knn.fit(X1_train, Y1_train)"
   ]
  },
  {
   "cell_type": "code",
   "execution_count": null,
   "id": "2c25a6a9",
   "metadata": {},
   "outputs": [],
   "source": [
    "from torch import nn\n",
    "from skorch import NeuralNetRegressor"
   ]
  },
  {
   "cell_type": "markdown",
   "id": "fcdb9791-4327-4477-b427-a151438c80ad",
   "metadata": {},
   "source": [
    "## Prediction\n",
    "\n",
    "We're gonna make prediction about the revenue of movies present in `X2.csv`."
   ]
  },
  {
   "cell_type": "code",
   "execution_count": null,
   "id": "bc2595c5",
   "metadata": {},
   "outputs": [],
   "source": []
  }
 ],
 "metadata": {
  "kernelspec": {
   "display_name": "Python 3 (ipykernel)",
   "language": "python",
   "name": "python3"
  },
  "language_info": {
   "codemirror_mode": {
    "name": "ipython",
    "version": 3
   },
   "file_extension": ".py",
   "mimetype": "text/x-python",
   "name": "python",
   "nbconvert_exporter": "python",
   "pygments_lexer": "ipython3",
   "version": "3.9.13"
  },
  "vscode": {
   "interpreter": {
    "hash": "841f872b124843c3cec9b84aa649cbdc5d28908a0e1b01e34eab5b6f0153b5f1"
   }
  }
 },
 "nbformat": 4,
 "nbformat_minor": 5
}
